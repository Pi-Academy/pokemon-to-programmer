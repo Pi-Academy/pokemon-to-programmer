{
  "nbformat": 4,
  "nbformat_minor": 0,
  "metadata": {
    "colab": {
      "provenance": []
    },
    "kernelspec": {
      "name": "python3",
      "display_name": "Python 3"
    },
    "language_info": {
      "name": "python"
    }
  },
  "cells": [
    {
      "cell_type": "markdown",
      "source": [
        "#1. ตัวแปร (Variables)"
      ],
      "metadata": {
        "id": "NU2dCrcxdi-H"
      }
    },
    {
      "cell_type": "code",
      "execution_count": null,
      "metadata": {
        "id": "4lNaBaZEdc1k"
      },
      "outputs": [],
      "source": [
        "#ตัวอย่างการสร้างตัวแปร:\n",
        "x = 10\n",
        "name = \"Alice\"\n",
        "score = 85.5\n",
        "is_student = True"
      ]
    },
    {
      "cell_type": "code",
      "source": [
        "#การแสดงผล:\n",
        "print(x)        # 10\n",
        "print(name)     # Alice\n",
        "print(score)    # 85.5\n",
        "print(is_student) # True"
      ],
      "metadata": {
        "id": "02jh9VuhdtJR"
      },
      "execution_count": null,
      "outputs": []
    },
    {
      "cell_type": "code",
      "source": [
        "#ตัวอย่างชื่อตัวแปร:\n",
        "student_name = \"Alice\"    # ✅ ถูก\n",
        "age2 = 25                 # ✅ ถูก\n",
        "first_name = \"Bob\"        # ✅ ถูก\n",
        "score_math = 90           # ✅ ถูก\n",
        "2age = 25                 # ❌ ผิด\n",
        "student name = \"Alice\"    # ❌ ผิด\n",
        "my-score = 100            # ❌ ผิด"
      ],
      "metadata": {
        "id": "OO2Vcl-Eil3P"
      },
      "execution_count": null,
      "outputs": []
    },
    {
      "cell_type": "code",
      "source": [
        "#ตัวอย่างการเปลี่ยนค่า:\n",
        "score = 85\n",
        "print(score)    # 85\n",
        "\n",
        "score = 92\n",
        "print(score)    # 92\n",
        "\n",
        "score = 78\n",
        "print(score)    # 78"
      ],
      "metadata": {
        "id": "cyIbgfSZjrB5"
      },
      "execution_count": null,
      "outputs": []
    },
    {
      "cell_type": "code",
      "source": [
        "#ตัวอย่างการคำนวณ:\n",
        "money = 1000\n",
        "print(\"เงินเริ่มต้น:\",money)    # 1000\n",
        "\n",
        "money = money + 500\n",
        "print(\"หลังได้เงินเพิ่ม:\", money)  # 1500\n",
        "\n",
        "money = money - 200\n",
        "print(\"หลังจ่ายค่าใช้จ่าย:\", money)  # 1300"
      ],
      "metadata": {
        "id": "fwc_ovIzkiPI"
      },
      "execution_count": null,
      "outputs": []
    },
    {
      "cell_type": "markdown",
      "source": [
        "#2. f-string"
      ],
      "metadata": {
        "id": "SMETkevIp8qc"
      }
    },
    {
      "cell_type": "code",
      "source": [
        "#📝ตัวอย่างการใช้งาน:\n",
        "name = \"Alice\"\n",
        "age = 25\n",
        "height = 165.5\n",
        "\n",
        "# ใช้ f-string\n",
        "print(f\"ชื่อ: {name}\")\n",
        "print(f\"อายุ: {age} ปี\")\n",
        "print(f\"ส่วนสูง: {height} ซม.\")\n",
        "\n",
        "# ประโยคยาว\n",
        "print(f\"สวัสดีครับ {name} อายุ {age} ปี ส่วนสูง {height} ซม.\")"
      ],
      "metadata": {
        "id": "xr5UFk17qCqc"
      },
      "execution_count": null,
      "outputs": []
    },
    {
      "cell_type": "code",
      "source": [
        "#💰ตัวอย่างการคำนวณใน f-string:\n",
        "price = 100\n",
        "quantity = 3\n",
        "print(f\"ราคารวม: {price * quantity} บาท\")"
      ],
      "metadata": {
        "id": "dx6nAzObutDx"
      },
      "execution_count": null,
      "outputs": []
    },
    {
      "cell_type": "code",
      "source": [
        "#⚖️เปรียบเทียบ f-string กับ print แบบเดิม\n",
        "\n",
        "name = \"Alice\"\n",
        "age = 25\n",
        "score = 95.5\n",
        "\n",
        "#🔴 แบบเดิม (ยาก อ่านยาก):\n",
        "print(\"ชื่อ:\", name, \"อายุ:\", age, \"ปี\")\n",
        "print(\"นักเรียน\", name, \"ได้คะแนน\", score, \"คะแนน\")\n",
        "\n",
        "#🟢 แบบ f-string (ง่าย อ่านง่าย):\n",
        "print(f\"ชื่อ: {name} อายุ: {age} ปี\")\n",
        "print(f\"นักเรียน {name} ได้คะแนน {score} คะแนน\")"
      ],
      "metadata": {
        "id": "zKn_xi2Vuzsq"
      },
      "execution_count": null,
      "outputs": []
    },
    {
      "cell_type": "code",
      "source": [
        "#📊 ตัวอย่างการใช้งาน:\n",
        "product = \"iPhone\"\n",
        "price = 35000\n",
        "discount = 10\n",
        "\n",
        "# แบบเดิม\n",
        "print(\"สินค้า:\", product, \"ราคา:\", price, \"ส่วนลด:\", discount, \"%\")\n",
        "\n",
        "# แบบ f-string\n",
        "print(f\"สินค้า: {product} ราคา: {price} บาท ส่วนลด: {discount}%\")\n",
        "print(f\"ราคาหลังส่วนลด: {price - (price * discount / 100)} บาท\")"
      ],
      "metadata": {
        "id": "klWEhCtSu8Gr"
      },
      "execution_count": null,
      "outputs": []
    },
    {
      "cell_type": "markdown",
      "source": [
        "#3. คำสั่ง input()"
      ],
      "metadata": {
        "id": "XHRMfnLldaDU"
      }
    },
    {
      "cell_type": "code",
      "source": [
        "#🎯 ตัวอย่างพื้นฐาน:\n",
        "name = input(\"ใส่ชื่อ: \")\n",
        "age = input(\"ใส่อายุ: \")\n",
        "print(f\"สวัสดี {name} อายุ {age} ปี\")"
      ],
      "metadata": {
        "id": "HPCte_vQdhXu"
      },
      "execution_count": null,
      "outputs": []
    },
    {
      "cell_type": "code",
      "source": [
        "#🔢 การแปลงเป็นตัวเลข:\n",
        "# รับอายุเป็นตัวเลข\n",
        "age_str = input(\"ใส่อายุ: \")\n",
        "age = int(age_str)\n",
        "print(f\"ปีหน้าคุณจะอายุ {age + 1} ปี\")\n",
        "\n",
        "# หรือแปลงเลย\n",
        "age = int(input(\"ใส่อายุ: \"))\n",
        "height = float(input(\"ใส่ส่วนสูง (ซม.): \"))"
      ],
      "metadata": {
        "id": "a1T5Wfvfdnee"
      },
      "execution_count": null,
      "outputs": []
    },
    {
      "cell_type": "code",
      "source": [
        "#🛒 ตัวอย่างโปรแกรมสั่งซื้อ:\n",
        "print(\"=== ระบบสั่งซื้อ ===\")\n",
        "product = input(\"สินค้า: \")\n",
        "quantity = int(input(\"จำนวน: \"))\n",
        "price = float(input(\"ราคาต่อชิ้น: \"))\n",
        "\n",
        "total = quantity * price\n",
        "print(f\"สั่งซื้อ {product} จำนวน {quantity} ชิ้น\")\n",
        "print(f\"ราคารวม: {total} บาท\")"
      ],
      "metadata": {
        "id": "bgcJOEoZducg"
      },
      "execution_count": null,
      "outputs": []
    },
    {
      "cell_type": "markdown",
      "source": [
        "#4. List Basic"
      ],
      "metadata": {
        "id": "xO5_h_p81d8b"
      }
    },
    {
      "cell_type": "code",
      "source": [
        "#🔢 ตัวอย่าง Lists:\n",
        "numbers = [1, 2, 3, 4, 5]\n",
        "fruits = [\"apple\", \"banana\", \"orange\"]\n",
        "scores = [85, 92, 78, 95, 88]\n",
        "mixed = [1, \"hello\", 3.14, True]"
      ],
      "metadata": {
        "id": "c-mzaU4t1jay"
      },
      "execution_count": null,
      "outputs": []
    },
    {
      "cell_type": "code",
      "source": [
        "#📊 ตัวอย่างการใช้งาน:\n",
        "# List ว่าง\n",
        "shopping_list = []\n",
        "\n",
        "# List ของสินค้า\n",
        "products = [\"นม\", \"ขนมปัง\", \"ไข่\", \"เนื้อสัตว์\"]\n",
        "\n",
        "# List ของราคา\n",
        "prices = [25, 30, 60, 150]\n",
        "\n",
        "print(f\"สินค้า: {products}\")\n",
        "print(f\"ราคา: {prices}\")"
      ],
      "metadata": {
        "id": "CKot49nd1rkT"
      },
      "execution_count": null,
      "outputs": []
    },
    {
      "cell_type": "code",
      "source": [
        "#🎯 การเข้าถึงข้อมูลใน List\n",
        "\n",
        "fruits = [\"apple\", \"banana\", \"orange\", \"grape\"]\n",
        "#           [0]      [1]       [2]       [3]\n",
        "\n",
        "print(fruits[0])    # apple\n",
        "print(fruits[1])    # banana\n",
        "print(fruits[2])    # orange\n",
        "print(fruits[3])    # grape\n",
        "\n",
        "# Index ติดลบ (นับจากหลัง)\n",
        "print(fruits[-1])   # grape\n",
        "print(fruits[-2])   # orange"
      ],
      "metadata": {
        "id": "-RFZYruy5V3H"
      },
      "execution_count": null,
      "outputs": []
    },
    {
      "cell_type": "code",
      "source": [
        "#🎓 ตัวอย่างการใช้งาน:\n",
        "students = [\"Alice\", \"Bob\", \"Charlie\", \"Diana\"]\n",
        "print(f\"นักเรียนคนแรก: {students[0]}\")\n",
        "print(f\"นักเรียนคนสุดท้าย: {students[-1]}\")\n",
        "\n",
        "# แสดงทั้งหมด\n",
        "print(f\"รายชื่อนักเรียน: {students}\")"
      ],
      "metadata": {
        "id": "8MPKesmM5roa"
      },
      "execution_count": null,
      "outputs": []
    },
    {
      "cell_type": "markdown",
      "source": [
        "#5. List Methods"
      ],
      "metadata": {
        "id": "QONKoajsBAIg"
      }
    },
    {
      "cell_type": "code",
      "source": [
        "#ตัวอย่าง append():\n",
        "fruits = [\"apple\", \"banana\", \"orange\", \"grape\"]\n",
        "fruits.append(\"mango\")\n",
        "print(fruits)  # [\"apple\", \"banana\", \"orange\", \"grape\", \"mango\"]"
      ],
      "metadata": {
        "id": "JeM3BC7e-I_M"
      },
      "execution_count": null,
      "outputs": []
    },
    {
      "cell_type": "code",
      "source": [
        "#ตัวอย่าง extend():\n",
        "numbers = [10, 20, 30]\n",
        "numbers.extend([40, 50])  # เพิ่มหลายตัว\n",
        "print(numbers)  # [10, 20, 30, 40, 50]"
      ],
      "metadata": {
        "id": "go8Tg4_CA2tN"
      },
      "execution_count": null,
      "outputs": []
    },
    {
      "cell_type": "code",
      "source": [
        "# เปรียบเทียบ append vs extend\n",
        "list1 = [10, 20, 30]\n",
        "list1.append([40, 50])    # เพิ่ม list เป็น element เดียว\n",
        "print(list1)  # [10, 20, 30, [40, 50]]\n",
        "\n",
        "list2 = [10, 20, 30]\n",
        "list2.extend([40, 50])    # เพิ่มแต่ละ element\n",
        "print(list2)  # [10, 20, 30, 40, 50]"
      ],
      "metadata": {
        "id": "sjdzl-ElBFH4"
      },
      "execution_count": null,
      "outputs": []
    },
    {
      "cell_type": "code",
      "source": [
        "#ตัวอย่าง insert():\n",
        "colors = [10, 20, 30]\n",
        "colors.insert(2, 40)  # แทรกที่ตำแหน่ง 2\n",
        "print(colors)  # [10, 20, 40, 30]"
      ],
      "metadata": {
        "id": "EiQqJLDaBVIC"
      },
      "execution_count": null,
      "outputs": []
    },
    {
      "cell_type": "code",
      "source": [
        "#ตัวอย่าง remove():\n",
        "fruits = [10, 20, 30, 40]\n",
        "fruits.remove(10)  # ลบค่า 10\n",
        "print(fruits)  # [20, 30, 40]"
      ],
      "metadata": {
        "id": "0w6evyTaBHr6"
      },
      "execution_count": null,
      "outputs": []
    },
    {
      "cell_type": "code",
      "source": [
        "#ตัวอย่าง pop():\n",
        "numbers = [10, 20, 30, 40]\n",
        "removed = numbers.pop(2)    # ลบตำแหน่ง 2\n",
        "print(numbers)  # [10, 20, 40]\n",
        "print(f\"ลบออก: {removed}\")  # ลบออก: 30"
      ],
      "metadata": {
        "id": "-FkiDga6BfEL"
      },
      "execution_count": null,
      "outputs": []
    },
    {
      "cell_type": "code",
      "source": [
        "# pop() แบบไม่ระบุตำแหน่ง = ลบตัวสุดท้าย\n",
        "last = numbers.pop()\n",
        "print(numbers)  # [10, 20]\n",
        "print(f\"ลบสุดท้าย: {last}\")  # ลบสุดท้าย: 40"
      ],
      "metadata": {
        "id": "LSL5L7psBgZb"
      },
      "execution_count": null,
      "outputs": []
    },
    {
      "cell_type": "code",
      "source": [
        "#ตัวอย่าง clear():\n",
        "temp = [10, 20, 30]\n",
        "temp.clear()\n",
        "print(temp)  # []"
      ],
      "metadata": {
        "id": "VFVAe4RHBjGM"
      },
      "execution_count": null,
      "outputs": []
    },
    {
      "cell_type": "code",
      "source": [
        "#🛒 ตัวอย่างรายการสินค้า:\n",
        "shopping = []\n",
        "shopping.append(\"นม\")\n",
        "shopping.append(\"ขนมปัง\")\n",
        "shopping.insert(1, \"ไข่\")\n",
        "print(f\"รายการสินค้า: {shopping}\")"
      ],
      "metadata": {
        "id": "QLnx7fjc-Tt1"
      },
      "execution_count": null,
      "outputs": []
    },
    {
      "cell_type": "code",
      "source": [
        "#ตัวอย่าง count():\n",
        "numbers = [10, 20, 30, 20]\n",
        "count_20 = numbers.count(20)\n",
        "print(f\"มี 20 อยู่ {count_20} ตัว\")  # มี 20 อยู่ 2 ตัว"
      ],
      "metadata": {
        "id": "d3jMP3DUBtVW"
      },
      "execution_count": null,
      "outputs": []
    },
    {
      "cell_type": "code",
      "source": [
        "#ตัวอย่าง index():\n",
        "fruits = [10, 20, 30, 40]\n",
        "position = fruits.index(40)\n",
        "print(f\"40 อยู่ตำแหน่ง {position}\")  # 40 อยู่ตำแหน่ง 3"
      ],
      "metadata": {
        "id": "3EBeMdJ9BxNW"
      },
      "execution_count": null,
      "outputs": []
    },
    {
      "cell_type": "code",
      "source": [
        "#ตัวอย่าง sort():\n",
        "numbers = [30, 10, 40, 20]\n",
        "numbers.sort()  # เรียงจากน้อยไปมาก\n",
        "print(numbers)  # [10, 20, 30, 40]\n",
        "\n",
        "# เรียงจากมากไปน้อย\n",
        "numbers.sort(reverse=True)\n",
        "print(numbers)  # [40, 30, 20, 10]"
      ],
      "metadata": {
        "id": "2pbsg5XzB2z3"
      },
      "execution_count": null,
      "outputs": []
    },
    {
      "cell_type": "code",
      "source": [
        "#ตัวอย่าง reverse():\n",
        "data = [30, 20, 10]\n",
        "data.reverse()  # กลับลำดับ\n",
        "print(data)  # [10, 20, 30]"
      ],
      "metadata": {
        "id": "ZIOTdhgcB7NA"
      },
      "execution_count": null,
      "outputs": []
    },
    {
      "cell_type": "code",
      "source": [
        "#ตัวอย่าง copy():\n",
        "original = [10, 20, 30]\n",
        "copied = original.copy()  # สร้าง List ใหม่\n",
        "print(f\"ต้นฉบับ: {original}\")\n",
        "print(f\"สำเนา: {copied}\")\n",
        "\n",
        "# เปลี่ยน copy ไม่กระทบต้นฉบับ\n",
        "copied.append(40)\n",
        "print(f\"ต้นฉบับ: {original}\")  # [10, 20, 30]\n",
        "print(f\"สำเนา: {copied}\")     # [10, 20, 30, 40]"
      ],
      "metadata": {
        "id": "By5oBBnTB-pJ"
      },
      "execution_count": null,
      "outputs": []
    },
    {
      "cell_type": "code",
      "source": [
        "#ตัวอย่างครบชุด:\n",
        "my_list = [30, 10, 20, 10]\n",
        "\n",
        "print(f\"เริ่มต้น: {my_list}\")\n",
        "my_list.append(40)              # [30, 10, 20, 10, 40]\n",
        "my_list.insert(1, 15)           # [30, 15, 10, 20, 10, 40]\n",
        "print(f\"มี 10 อยู่ {my_list.count(10)} ตัว\")  # 2 ตัว\n",
        "my_list.remove(10)              # [30, 15, 20, 10, 40]\n",
        "removed = my_list.pop(2)        # [30, 15, 10, 40]\n",
        "my_list.sort()                  # [10, 15, 30, 40]\n",
        "print(f\"ผลลัพธ์: {my_list}\")"
      ],
      "metadata": {
        "id": "5uVMneElCNoq"
      },
      "execution_count": null,
      "outputs": []
    },
    {
      "cell_type": "code",
      "source": [
        "#ตัวอย่างการใช้งาน:\n",
        "tasks = [\"ทำงาน\", \"เรียน\", \"ออกกำลังกาย\", \"อ่านหนังสือ\"]\n",
        "tasks.remove(\"เรียน\")    # เรียนเสร็จแล้ว\n",
        "tasks.pop()              # ไม่มีเวลาอ่านหนังสือ\n",
        "print(f\"งานที่เหลือ: {tasks}\")"
      ],
      "metadata": {
        "id": "jRwfrL32C1HA"
      },
      "execution_count": null,
      "outputs": []
    },
    {
      "cell_type": "markdown",
      "source": [
        "#6. คำสั่ง len(),max(),min(),sum()"
      ],
      "metadata": {
        "id": "TqOgt_klIZll"
      }
    },
    {
      "cell_type": "code",
      "source": [
        "#len() = หาจำนวนข้อมูล:\n",
        "fruits = [\"apple\", \"banana\", \"orange\"]\n",
        "print(f\"จำนวนผลไม้: {len(fruits)} ชนิด\")\n",
        "\n",
        "scores = [85, 92, 78, 95, 88]\n",
        "print(f\"จำนวนคะแนน: {len(scores)} คะแนน\")"
      ],
      "metadata": {
        "id": "SLQVUZgDIh_-"
      },
      "execution_count": null,
      "outputs": []
    },
    {
      "cell_type": "code",
      "source": [
        "#ตัวอย่างการใช้งาน:\n",
        "students = [\"Alice\", \"Bob\", \"Charlie\", \"Diana\"]\n",
        "grades = [85, 92, 78, 95]\n",
        "\n",
        "print(f\"จำนวนนักเรียน: {len(students)} คน\")\n",
        "print(\"รายชื่อและคะแนน:\")"
      ],
      "metadata": {
        "id": "-s4tCLbFIp3v"
      },
      "execution_count": null,
      "outputs": []
    },
    {
      "cell_type": "code",
      "source": [
        "#หาค่าสูงสุด/ต่ำสุด:\n",
        "numbers = [45, 78, 23, 89, 56]\n",
        "print(f\"ค่าสูงสุด: {max(numbers)}\")\n",
        "print(f\"ค่าต่ำสุด: {min(numbers)}\")\n",
        "print(f\"ผลรวม: {sum(numbers)}\")"
      ],
      "metadata": {
        "id": "lA-Ep5aGIuI4"
      },
      "execution_count": null,
      "outputs": []
    },
    {
      "cell_type": "markdown",
      "source": [
        "#7. Tuples"
      ],
      "metadata": {
        "id": "FsKAvFO9L2pV"
      }
    },
    {
      "cell_type": "code",
      "source": [
        "#ตัวอย่าง Tuples:\n",
        "coordinates = (10, 20)\n",
        "colors = (\"red\", \"green\", \"blue\")\n",
        "person = (\"Alice\", 25, \"Engineer\")\n",
        "point = (100, 200, 300)  # x, y, z"
      ],
      "metadata": {
        "id": "PFEIXEj8L7L-"
      },
      "execution_count": null,
      "outputs": []
    },
    {
      "cell_type": "code",
      "source": [
        "#ตัวอย่างการใช้งาน:\n",
        "# พิกัดจุด\n",
        "location = (13.7563, 100.5018)  # Latitude, Longitude\n",
        "print(f\"พิกัด: {location}\")\n",
        "\n",
        "# ข้อมูลวันที่\n",
        "date = (2025, 7, 3)  # ปี, เดือน, วัน\n",
        "print(f\"วันที่: {date[2]}/{date[1]}/{date[0]}\")\n",
        "\n",
        "# ข้อมูล RGB\n",
        "red_color = (255, 0, 0)\n",
        "green_color = (0, 255, 0)\n",
        "blue_color = (0, 0, 255)\n",
        "print(f\"สีแดง RGB: {red_color}\")"
      ],
      "metadata": {
        "id": "4WToL_MUMCcR"
      },
      "execution_count": null,
      "outputs": []
    },
    {
      "cell_type": "code",
      "source": [
        "#List (เปลี่ยนได้):\n",
        "fruits = [\"apple\", \"banana\"]\n",
        "fruits.append(\"orange\")    # ✅ ได้\n",
        "fruits.remove(\"banana\")    # ✅ ได้\n",
        "fruits[0] = \"grape\"        # ✅ ได้\n",
        "print(fruits)  # [\"grape\", \"orange\"]"
      ],
      "metadata": {
        "id": "a-HikQl4Mnx1"
      },
      "execution_count": null,
      "outputs": []
    },
    {
      "cell_type": "code",
      "source": [
        "#Tuple (เปลี่ยนไม่ได้):\n",
        "colors = (\"red\", \"green\")\n",
        "colors.append(\"blue\")    # ❌ Error!\n",
        "colors.remove(\"red\")     # ❌ Error!\n",
        "colors[0] = \"yellow\"     # ❌ Error!"
      ],
      "metadata": {
        "id": "48kLu_e4Mrqe"
      },
      "execution_count": null,
      "outputs": []
    },
    {
      "cell_type": "code",
      "source": [
        "#ตัวอย่างการใช้งาน:\n",
        "# Tuple - ข้อมูลบัตรประชาชน\n",
        "id_info = (\"1234567890123\", \"สมชาย\", \"ใจดี\")\n",
        "\n",
        "# List - รายการสั่งซื้อ\n",
        "orders = [\"กาแฟ\", \"ขนมปัง\"]\n",
        "orders.append(\"นม\")  # เพิ่มได้"
      ],
      "metadata": {
        "id": "qAbqJLupN6A6"
      },
      "execution_count": null,
      "outputs": []
    },
    {
      "cell_type": "markdown",
      "source": [
        "#8. Sets Basic"
      ],
      "metadata": {
        "id": "39PDCna6QcQy"
      }
    },
    {
      "cell_type": "code",
      "source": [
        "#ตัวอย่าง Sets:\n",
        "numbers = {1, 2, 3, 3, 4}\n",
        "print(numbers)  # {1, 2, 3, 4} (ไม่มี 3 ซ้ำ)\n",
        "\n",
        "colors = {\"red\", \"green\", \"blue\", \"red\"}\n",
        "print(colors)  # {\"red\", \"green\", \"blue\"}"
      ],
      "metadata": {
        "id": "6Dp9tIzLQeBy"
      },
      "execution_count": null,
      "outputs": []
    },
    {
      "cell_type": "code",
      "source": [
        "#ตัวอย่างการใช้งาน:\n",
        "# เก็บชื่อที่ไม่ซ้ำ\n",
        "names = {\"Alice\", \"Bob\", \"Alice\", \"Charlie\"}\n",
        "print(f\"ชื่อที่ไม่ซ้ำ: {names}\")"
      ],
      "metadata": {
        "id": "Yddi9TCiQiQJ"
      },
      "execution_count": null,
      "outputs": []
    },
    {
      "cell_type": "code",
      "source": [
        "# สร้าง Set จาก List\n",
        "scores = [85, 92, 78, 85, 95, 78]\n",
        "unique_scores = set(scores)\n",
        "print(f\"คะแนนที่ไม่ซ้ำ: {unique_scores}\")"
      ],
      "metadata": {
        "id": "qvgprHklQpIb"
      },
      "execution_count": null,
      "outputs": []
    },
    {
      "cell_type": "code",
      "source": [
        "#ตัวอย่างการใช้งาน:\n",
        "# เก็บรายการนักเรียนที่เข้าร่วมกิจกรรม\n",
        "activity_1 = {\"Alice\", \"Bob\", \"Charlie\"}\n",
        "activity_2 = {\"Bob\", \"Diana\", \"Eve\"}\n",
        "\n",
        "# หาคนที่เข้าร่วมทั้งสองกิจกรรม\n",
        "both = activity_1 & activity_2\n",
        "print(f\"เข้าร่วมทั้งสอง: {both}\")\n",
        "\n",
        "# หาคนที่เข้าร่วมอย่างน้อยหนึ่งกิจกรรม\n",
        "all_participants = activity_1 | activity_2\n",
        "print(f\"เข้าร่วมทั้งหมด: {all_participants}\")"
      ],
      "metadata": {
        "id": "3qC702x8Qt6s"
      },
      "execution_count": null,
      "outputs": []
    },
    {
      "cell_type": "code",
      "source": [
        "#➕ ตัวอย่าง add():\n",
        "fruits = {\"apple\", \"banana\"}\n",
        "print(f\"ก่อนเพิ่ม: {fruits}\")\n",
        "\n",
        "fruits.add(\"orange\")\n",
        "print(f\"หลังเพิ่ม: {fruits}\")\n",
        "\n",
        "fruits.add(\"apple\")  # เพิ่มซ้ำ\n",
        "print(f\"เพิ่มซ้ำ: {fruits}\")  # ไม่เปลี่ยน"
      ],
      "metadata": {
        "id": "iK8eJJ8FT8Xy"
      },
      "execution_count": null,
      "outputs": []
    },
    {
      "cell_type": "code",
      "source": [
        "#➖ ตัวอย่าง remove():\n",
        "my_set = {5, 'Hello', 3.2}\n",
        "my_set.remove(3.2)\n",
        "print(my_set)  # {'Hello', 5}\n",
        "\n",
        "# remove จะ Error ถ้าไม่มี\n",
        "my_set.remove(999)  # KeyError!"
      ],
      "metadata": {
        "id": "hS92VxAeT_HF"
      },
      "execution_count": null,
      "outputs": []
    },
    {
      "cell_type": "code",
      "source": [
        "#➖ ตัวอย่าง discard():\n",
        "my_set = {5, 'Hello', 3.2}\n",
        "my_set.discard(3.2)\n",
        "print(my_set)  # {'Hello', 5}\n",
        "\n",
        "# discard ไม่ Error ถ้าไม่มี\n",
        "my_set.discard(999)  # ไม่เกิด Error"
      ],
      "metadata": {
        "id": "HK3-M7sAUGcl"
      },
      "execution_count": null,
      "outputs": []
    },
    {
      "cell_type": "code",
      "source": [
        "#🎲 ตัวอย่าง pop():\n",
        "my_set = {5, 'Hello', 3.2}\n",
        "removed = my_set.pop()  # ลบแบบสุ่ม\n",
        "print(f\"ลบออก: {removed}\")\n",
        "print(f\"เหลือ: {my_set}\")  # {3.2, 5} (อาจเปลี่ยน)"
      ],
      "metadata": {
        "id": "_RoSRwDgUgoQ"
      },
      "execution_count": null,
      "outputs": []
    },
    {
      "cell_type": "code",
      "source": [
        "#🧹 ตัวอย่าง clear():\n",
        "my_set = {1, 2, 3}\n",
        "my_set.clear()\n",
        "print(my_set)  # set()"
      ],
      "metadata": {
        "id": "i2ej9UpIUjKB"
      },
      "execution_count": null,
      "outputs": []
    },
    {
      "cell_type": "markdown",
      "source": [
        "#9. Sets - การดำเนินการเซต (Set Operations)"
      ],
      "metadata": {
        "id": "43RyVIbCVnka"
      }
    },
    {
      "cell_type": "code",
      "source": [
        "#🔍 ตัวอย่าง intersection():\n",
        "set1 = {5, 2, 8}\n",
        "set2 = {5, 1}\n",
        "result = set1.intersection(set2)\n",
        "print(result)  # {5}\n",
        "\n",
        "# หรือใช้ &\n",
        "result = set1 & set2\n",
        "print(result)  # {5}"
      ],
      "metadata": {
        "id": "E2vxxueFVpPj"
      },
      "execution_count": null,
      "outputs": []
    },
    {
      "cell_type": "code",
      "source": [
        "#➖ ตัวอย่าง difference():\n",
        "set1 = {5, 2, 8}\n",
        "set2 = {5, 1}\n",
        "result = set1.difference(set2)\n",
        "print(result)  # {8, 2}\n",
        "\n",
        "# หรือใช้ -\n",
        "result = set1 - set2\n",
        "print(result)  # {8, 2}"
      ],
      "metadata": {
        "id": "6DlFKMlPVt07"
      },
      "execution_count": null,
      "outputs": []
    },
    {
      "cell_type": "code",
      "source": [
        "#🔗 ตัวอย่าง union():\n",
        "set1 = {1, 2, 3}\n",
        "set2 = {3, 1}\n",
        "result = set1.union(set2)\n",
        "print(result)  # {1, 2, 3}\n",
        "\n",
        "# หรือใช้ |\n",
        "result = set1 | set2\n",
        "print(result)  # {1, 2, 3}"
      ],
      "metadata": {
        "id": "Kx9i13Q4Vw2E"
      },
      "execution_count": null,
      "outputs": []
    },
    {
      "cell_type": "code",
      "source": [
        "#🔍 ตัวอย่าง issubset():\n",
        "set1 = {1, -2}\n",
        "set2 = {-2, 1, 3}\n",
        "result = set1.issubset(set2)\n",
        "print(result)  # True (set1 เป็นส่วนย่อยของ set2)"
      ],
      "metadata": {
        "id": "CRyyFhQDV5-O"
      },
      "execution_count": null,
      "outputs": []
    },
    {
      "cell_type": "code",
      "source": [
        "#📊 ตัวอย่าง issuperset():\n",
        "set1 = {-2, 1, 3}\n",
        "set2 = {1, -2}\n",
        "result = set1.issuperset(set2)\n",
        "print(result)  # True (set1 มี set2 ทั้งหมด)"
      ],
      "metadata": {
        "id": "6sdXul2eV8q2"
      },
      "execution_count": null,
      "outputs": []
    },
    {
      "cell_type": "code",
      "source": [
        "#🚫 ตัวอย่าง isdisjoint():\n",
        "set1 = {-2, 1, 3}\n",
        "set2 = {4, 6}\n",
        "result = set1.isdisjoint(set2)\n",
        "print(result)  # True (ไม่มีข้อมูลร่วมกัน)\n",
        "\n",
        "# ตัวอย่างที่ False\n",
        "set3 = {1, 5}\n",
        "result = set1.isdisjoint(set3)\n",
        "print(result)  # False (มี 1 ร่วมกัน)"
      ],
      "metadata": {
        "id": "9Migzk-vWBJO"
      },
      "execution_count": null,
      "outputs": []
    },
    {
      "cell_type": "code",
      "source": [
        "#📊 ตัวอย่างครบชุด:\n",
        "set_a = {1, 2, 3}\n",
        "set_b = {3, 4, 5}\n",
        "\n",
        "print(f\"A ∪ B: {set_a | set_b}\")        # {1, 2, 3, 4, 5}\n",
        "print(f\"A ∩ B: {set_a & set_b}\")        # {3}\n",
        "print(f\"A - B: {set_a - set_b}\")        # {1, 2}\n",
        "print(f\"B - A: {set_b - set_a}\")        # {4, 5}\n",
        "print(f\"A ⊆ B: {set_a.issubset(set_b)}\") # False"
      ],
      "metadata": {
        "id": "F2FsHiA3WOJp"
      },
      "execution_count": null,
      "outputs": []
    },
    {
      "cell_type": "code",
      "source": [
        "## การใช้งานจริง\n",
        "students_math = {'Alice', 'Bob', 'Charlie'}\n",
        "students_science = {'Bob', 'Diana', 'Eve'}\n",
        "\n",
        "# นักเรียนที่เรียนทั้งสองวิชา\n",
        "both_subjects = students_math & students_science\n",
        "print(f\"เรียนทั้งสองวิชา: {both_subjects}\")  # {'Bob'}\n",
        "\n",
        "# นักเรียนทั้งหมด\n",
        "all_students = students_math | students_science\n",
        "print(f\"นักเรียนทั้งหมด: {all_students}\")"
      ],
      "metadata": {
        "id": "v1GVdyKeWS_x"
      },
      "execution_count": null,
      "outputs": []
    },
    {
      "cell_type": "markdown",
      "source": [
        "#10. Dictionaries"
      ],
      "metadata": {
        "id": "CeM7vrAkYoUI"
      }
    },
    {
      "cell_type": "code",
      "source": [
        "#👤 ตัวอย่าง Dictionary:\n",
        "student = {\"name\": \"Alice\", \"age\": 25, \"grade\": \"A\"}\n",
        "print(student[\"name\"])   # Alice\n",
        "print(student[\"age\"])    # 25\n",
        "print(student[\"grade\"])  # A"
      ],
      "metadata": {
        "id": "GCgyvu98Yp2p"
      },
      "execution_count": null,
      "outputs": []
    },
    {
      "cell_type": "code",
      "source": [
        "#🏪 ตัวอย่างการใช้งาน:\n",
        "# ข้อมูลสินค้า\n",
        "product = {\n",
        "    \"name\": \"iPhone\",\n",
        "    \"price\": 35000,\n",
        "    \"brand\": \"Apple\",\n",
        "    \"color\": \"Space Gray\"\n",
        "}\n",
        "\n",
        "print(f\"ชื่อสินค้า: {product['name']}\")\n",
        "print(f\"ราคา: {product['price']} บาท\")\n",
        "print(f\"ยี่ห้อ: {product['brand']}\")"
      ],
      "metadata": {
        "id": "gRQ4NeuyYvco"
      },
      "execution_count": null,
      "outputs": []
    },
    {
      "cell_type": "code",
      "source": [
        "#📊 ตัวอย่างข้อมูลคะแนน:\n",
        "scores = {\n",
        "    \"Alice\": 85,\n",
        "    \"Bob\": 92,\n",
        "    \"Charlie\": 78,\n",
        "    \"Diana\": 95\n",
        "}\n",
        "\n",
        "print(f\"คะแนนของ Alice: {scores['Alice']}\")\n",
        "print(f\"คะแนนของ Bob: {scores['Bob']}\")"
      ],
      "metadata": {
        "id": "2ou-icLYYyuK"
      },
      "execution_count": null,
      "outputs": []
    },
    {
      "cell_type": "code",
      "source": [
        "#🌍 ตัวอย่างข้อมูลประเทศ:\n",
        "countries = {\n",
        "    \"TH\": \"Thailand\",\n",
        "    \"US\": \"United States\",\n",
        "    \"JP\": \"Japan\",\n",
        "    \"KR\": \"South Korea\"\n",
        "}\n",
        "\n",
        "print(f\"TH = {countries['TH']}\")"
      ],
      "metadata": {
        "id": "EchJ0R10Y2UJ"
      },
      "execution_count": null,
      "outputs": []
    },
    {
      "cell_type": "code",
      "source": [
        "#✏️ การเพิ่มข้อมูล:\n",
        "student = {\"name\": \"Alice\"}\n",
        "print(f\"ข้อมูลเดิม: {student}\")\n",
        "\n",
        "student[\"age\"] = 25      # เพิ่ม key ใหม่\n",
        "student[\"grade\"] = \"A\"   # เพิ่ม key ใหม่\n",
        "print(f\"หลังเพิ่ม: {student}\")"
      ],
      "metadata": {
        "id": "BVUDFh5fY93j"
      },
      "execution_count": null,
      "outputs": []
    },
    {
      "cell_type": "code",
      "source": [
        "#🔄 การแก้ไขข้อมูล:\n",
        "student[\"name\"] = \"Bob\"  # แก้ไข key เดิม\n",
        "student[\"age\"] = 26      # แก้ไข key เดิม\n",
        "print(f\"หลังแก้ไข: {student}\")"
      ],
      "metadata": {
        "id": "6Zir2EhNZAgi"
      },
      "execution_count": null,
      "outputs": []
    },
    {
      "cell_type": "code",
      "source": [
        "#🗑️ การลบข้อมูล:\n",
        "del student[\"grade\"]     # ลบ key\n",
        "print(f\"หลังลบ: {student}\")"
      ],
      "metadata": {
        "id": "Z367qOM9ZDLr"
      },
      "execution_count": null,
      "outputs": []
    },
    {
      "cell_type": "code",
      "source": [
        "#🛒 ตัวอย่างระบบสินค้า:\n",
        "inventory = {}\n",
        "\n",
        "# เพิ่มสินค้า\n",
        "inventory[\"apple\"] = 50\n",
        "inventory[\"banana\"] = 30\n",
        "inventory[\"orange\"] = 40\n",
        "print(f\"คลัง: {inventory}\")\n",
        "\n",
        "# แก้ไขจำนวน\n",
        "inventory[\"apple\"] = 45  # ขายไป 5 ลูก\n",
        "print(f\"หลังขาย: {inventory}\")\n",
        "\n",
        "# เพิ่มสินค้าใหม่\n",
        "inventory[\"grape\"] = 25\n",
        "print(f\"เพิ่มสินค้า: {inventory}\")"
      ],
      "metadata": {
        "id": "oofFTyxKZGjU"
      },
      "execution_count": null,
      "outputs": []
    },
    {
      "cell_type": "code",
      "source": [
        "#📝 ตัวอย่างข้อมูลนักเรียน:\n",
        "student_info = {\n",
        "    \"name\": \"Alice\",\n",
        "    \"subjects\": [\"Math\", \"Science\", \"English\"],\n",
        "    \"gpa\": 3.75\n",
        "}\n",
        "\n",
        "# เพิ่มข้อมูล\n",
        "student_info[\"phone\"] = \"081-234-5678\"\n",
        "student_info[\"address\"] = \"Bangkok\"\n",
        "\n",
        "# แก้ไข GPA\n",
        "student_info[\"gpa\"] = 3.85\n",
        "\n",
        "print(f\"ข้อมูลนักเรียน: {student_info}\")"
      ],
      "metadata": {
        "id": "0Dd7AhUkZKhL"
      },
      "execution_count": null,
      "outputs": []
    }
  ]
}