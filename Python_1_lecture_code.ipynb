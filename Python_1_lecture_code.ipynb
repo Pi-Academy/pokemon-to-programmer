{
  "nbformat": 4,
  "nbformat_minor": 0,
  "metadata": {
    "colab": {
      "provenance": []
    },
    "kernelspec": {
      "name": "python3",
      "display_name": "Python 3"
    },
    "language_info": {
      "name": "python"
    }
  },
  "cells": [
    {
      "cell_type": "markdown",
      "source": [
        "#1. การแสดงผลข้อมูลบนหน้าจอ"
      ],
      "metadata": {
        "id": "a3ud4ucsJRuv"
      }
    },
    {
      "cell_type": "code",
      "source": [
        "#รูปแบบพื้นฐาน:\n",
        "print(\"Hello World!\")"
      ],
      "metadata": {
        "id": "y2PsbIxlJX5v"
      },
      "execution_count": null,
      "outputs": []
    },
    {
      "cell_type": "code",
      "source": [
        "#1. แสดงข้อความ:\n",
        "print(\"สวัสดี\")\n",
        "print(\"ยินดีต้อนรับสู่ Python\")"
      ],
      "metadata": {
        "id": "xjbROZ76JbSR"
      },
      "execution_count": null,
      "outputs": []
    },
    {
      "cell_type": "code",
      "source": [
        "#2. แสดงตัวเลข:\n",
        "print(123)\n",
        "print(45.67)"
      ],
      "metadata": {
        "id": "HdvNMgEIJh75"
      },
      "execution_count": null,
      "outputs": []
    },
    {
      "cell_type": "code",
      "source": [
        "#3. แสดงผลคำนวณ:\n",
        "print(5 + 3)\n",
        "print(10 - 2)"
      ],
      "metadata": {
        "id": "vfsJWPo3JpTZ"
      },
      "execution_count": null,
      "outputs": []
    },
    {
      "cell_type": "code",
      "source": [
        "#4. การแสดงเครื่องหมาย \" \" หรือ ' '\n",
        "print(\"\\\"สวัสดี\\\"\")\n",
        "print(\"\\'10 – 2\\'\")"
      ],
      "metadata": {
        "id": "UBxsd0U0JSoe"
      },
      "execution_count": null,
      "outputs": []
    },
    {
      "cell_type": "code",
      "source": [
        "#5. แสดงข้อมูลหลายประเภท:\n",
        "print(\"ผลลัพธ์คือ\", 42)\n",
        "print(\"อุณหภูมิ\", 25.5, \"องศาเซลเซียส\")"
      ],
      "metadata": {
        "id": "Oe8s6SrDJqVi"
      },
      "execution_count": null,
      "outputs": []
    },
    {
      "cell_type": "markdown",
      "source": [
        "#2 print() กับข้อความหลายตัว และการใช้ comma"
      ],
      "metadata": {
        "id": "EXyjGGLyNu8E"
      }
    },
    {
      "cell_type": "code",
      "execution_count": null,
      "metadata": {
        "id": "10QfGTeCJDw-"
      },
      "outputs": [],
      "source": [
        "#การใช้ comma (,) ใน print():\n",
        "print(\"Hello\", \"World\")"
      ]
    },
    {
      "cell_type": "code",
      "source": [
        "#1 ข้อความหลายส่วน\n",
        "print(\"My\", \"name\", \"is\", \"Python\")"
      ],
      "metadata": {
        "id": "krQdVL-iO1hh"
      },
      "execution_count": null,
      "outputs": []
    },
    {
      "cell_type": "code",
      "source": [
        "print(\"Today\", \"is\", \"Monday\")"
      ],
      "metadata": {
        "id": "svRHEcWrO66a"
      },
      "execution_count": null,
      "outputs": []
    },
    {
      "cell_type": "code",
      "source": [
        "#2. ผสมข้อความกับตัวเลข:\n",
        "print(\"Age:\", 25)"
      ],
      "metadata": {
        "id": "Acwifh1APJq2"
      },
      "execution_count": null,
      "outputs": []
    },
    {
      "cell_type": "code",
      "source": [
        "print(\"Score:\", 95, \"points\")"
      ],
      "metadata": {
        "id": "XyAMRQhdPLLV"
      },
      "execution_count": null,
      "outputs": []
    },
    {
      "cell_type": "code",
      "source": [
        "print(\"Price:\", 199.99, \"baht\")"
      ],
      "metadata": {
        "id": "tyKJADoPPM5e"
      },
      "execution_count": null,
      "outputs": []
    },
    {
      "cell_type": "code",
      "source": [
        "#3 ข้อความยาว:\n",
        "print(\"Welcome\", \"to\", \"Python\", \"Programming\", \"Course\")\n"
      ],
      "metadata": {
        "id": "0hJamXvJQQNw"
      },
      "execution_count": null,
      "outputs": []
    },
    {
      "cell_type": "markdown",
      "source": [
        "#3 การเชื่อมข้อความด้วยเครื่องหมาย +"
      ],
      "metadata": {
        "id": "XOeY4M6fSs_4"
      }
    },
    {
      "cell_type": "code",
      "source": [
        "#รูปแบบพื้นฐาน:\n",
        "print(\"Hello\" + \"World\")"
      ],
      "metadata": {
        "id": "FnOz2wnfS0Qp"
      },
      "execution_count": null,
      "outputs": []
    },
    {
      "cell_type": "code",
      "source": [
        "#1. การต่อข้อความ:\n",
        "print(\"Good\" + \"Morning\")"
      ],
      "metadata": {
        "id": "zv_J1RaLS5ji"
      },
      "execution_count": null,
      "outputs": []
    },
    {
      "cell_type": "code",
      "source": [
        "print(\"Python\" + \"Programming\")"
      ],
      "metadata": {
        "id": "TglN0ScbS9rL"
      },
      "execution_count": null,
      "outputs": []
    },
    {
      "cell_type": "code",
      "source": [
        "#2. การเพิ่มช่องว่าง:\n",
        "print(\"Hello\" + \" \" + \"World\")"
      ],
      "metadata": {
        "id": "bCJdEPt_TA6s"
      },
      "execution_count": null,
      "outputs": []
    },
    {
      "cell_type": "code",
      "source": [
        "print(\"Good\" + \" \" + \"Morning\" + \" \" + \"Everyone\")"
      ],
      "metadata": {
        "id": "OtZgA8KuTHOc"
      },
      "execution_count": null,
      "outputs": []
    },
    {
      "cell_type": "code",
      "source": [
        "#3. ตัวอย่างที่ซับซ้อน:\n",
        "print(\"Welcome\" + \" to \" + \"Python\" + \" Class\")"
      ],
      "metadata": {
        "id": "49QkRPBLTIrd"
      },
      "execution_count": null,
      "outputs": []
    },
    {
      "cell_type": "code",
      "source": [
        "print(\"First\" + \" \" + \"Last\" + \" \" + \"Name\")"
      ],
      "metadata": {
        "id": "cYrqK68uTM8l"
      },
      "execution_count": null,
      "outputs": []
    },
    {
      "cell_type": "code",
      "source": [
        "#4. การต่อข้อความหลายบรรทัด:\n",
        "print(\"Part1\" + \"Part2\" + \"Part3\")"
      ],
      "metadata": {
        "id": "rj9_fffQTPnF"
      },
      "execution_count": null,
      "outputs": []
    },
    {
      "cell_type": "code",
      "source": [
        "print(\"Begin\" + \" \" + \"Middle\" + \" \" + \"End\")"
      ],
      "metadata": {
        "id": "0hRZLMWlTTMG"
      },
      "execution_count": null,
      "outputs": []
    },
    {
      "cell_type": "markdown",
      "source": [
        "#4 การใช้ sep="
      ],
      "metadata": {
        "id": "AfEyTqHoU-pA"
      }
    },
    {
      "cell_type": "code",
      "source": [
        "#รูปแบบพื้นฐาน:\n",
        "print(\"A\", \"B\", \"C\", sep=\"-\")"
      ],
      "metadata": {
        "id": "96AZ2A6kVIEJ"
      },
      "execution_count": null,
      "outputs": []
    },
    {
      "cell_type": "code",
      "source": [
        "#1. ตัวแบ่งแบบต่าง ๆ:\n",
        "print(\"Red\", \"Green\", \"Blue\", sep=\"-\")"
      ],
      "metadata": {
        "id": "9xqlBN76VMoZ"
      },
      "execution_count": null,
      "outputs": []
    },
    {
      "cell_type": "code",
      "source": [
        "print(\"One\", \"Two\", \"Three\", sep=\" | \")"
      ],
      "metadata": {
        "id": "0FnfvfUEVOHp"
      },
      "execution_count": null,
      "outputs": []
    },
    {
      "cell_type": "code",
      "source": [
        "print(\"Apple\", \"Banana\", \"Orange\", sep=\" * \")"
      ],
      "metadata": {
        "id": "LZR_N3msVQ5q"
      },
      "execution_count": null,
      "outputs": []
    },
    {
      "cell_type": "code",
      "source": [
        "#2. ตัวแบ่งที่เป็นเครื่องหมาย:\n",
        "print(\"A\", \"B\", \"C\", sep=\"@\")"
      ],
      "metadata": {
        "id": "jibh0T1EVWZz"
      },
      "execution_count": null,
      "outputs": []
    },
    {
      "cell_type": "code",
      "source": [
        "print(\"First\", \"Second\", \"Third\", sep=\"#\")"
      ],
      "metadata": {
        "id": "TNy7el0-VXTz"
      },
      "execution_count": null,
      "outputs": []
    },
    {
      "cell_type": "code",
      "source": [
        "print(\"X\", \"Y\", \"Z\", sep=\"++\")"
      ],
      "metadata": {
        "id": "K_qN5Pv3VYvb"
      },
      "execution_count": null,
      "outputs": []
    },
    {
      "cell_type": "code",
      "source": [
        "#3. การใช้กับตัวเลข:\n",
        "print(10, 20, 30, sep=\"-\")"
      ],
      "metadata": {
        "id": "52Q6CLq5VdwM"
      },
      "execution_count": null,
      "outputs": []
    },
    {
      "cell_type": "code",
      "source": [
        "print(100, 200, 300, sep=\" / \")"
      ],
      "metadata": {
        "id": "4n2XStSjVfTU"
      },
      "execution_count": null,
      "outputs": []
    },
    {
      "cell_type": "code",
      "source": [
        "#4. ไม่มีตัวแบ่ง:\n",
        "print(\"A\", \"B\", \"C\", sep=\"\")"
      ],
      "metadata": {
        "id": "UY81ZGFNVjb9"
      },
      "execution_count": null,
      "outputs": []
    },
    {
      "cell_type": "markdown",
      "source": [
        "#5 การใช้ end="
      ],
      "metadata": {
        "id": "t0L7j04UYOSA"
      }
    },
    {
      "cell_type": "code",
      "source": [
        "#ค่าเริ่มต้นของ print():\n",
        "print(\"Hello\")\n",
        "print(\"World\")"
      ],
      "metadata": {
        "id": "tFQ5OXMrYRGw"
      },
      "execution_count": null,
      "outputs": []
    },
    {
      "cell_type": "code",
      "source": [
        "#1. แสดงผลในบรรทัดเดียว:\n",
        "print(\"Hello\", end=\" \")\n",
        "print(\"World\")"
      ],
      "metadata": {
        "id": "iGRW_fJpYZxJ"
      },
      "execution_count": null,
      "outputs": []
    },
    {
      "cell_type": "code",
      "source": [
        "#2. ตัวอย่างการใช้งาน:\n",
        "print(\"Good\", end=\" \")\n",
        "print(\"Morning\", end=\" \")\n",
        "print(\"Everyone\")"
      ],
      "metadata": {
        "id": "I5FU0-oMYeeL"
      },
      "execution_count": null,
      "outputs": []
    },
    {
      "cell_type": "code",
      "source": [
        "print(\"Python\", end=\" \")\n",
        "print(\"is\", end=\" \")\n",
        "print(\"fun\")"
      ],
      "metadata": {
        "id": "Zt05RwrYYgYj"
      },
      "execution_count": null,
      "outputs": []
    },
    {
      "cell_type": "code",
      "source": [
        "#3. ใช้เครื่องหมายต่าง ๆ:\n",
        "print(\"Loading\", end=\"...\")\n",
        "print(\"Done\")"
      ],
      "metadata": {
        "id": "6S3Qa0cZYlm-"
      },
      "execution_count": null,
      "outputs": []
    },
    {
      "cell_type": "code",
      "source": [
        "print(\"First\", end=\" -> \")\n",
        "print(\"Second\", end=\" -> \")\n",
        "print(\"Third\")"
      ],
      "metadata": {
        "id": "h2mM5L5GYnM8"
      },
      "execution_count": null,
      "outputs": []
    },
    {
      "cell_type": "code",
      "source": [
        "#4. ไม่มีตัวอักษรท้าย:\n",
        "print(\"ABC\", end=\"\")\n",
        "print(\"DEF\")"
      ],
      "metadata": {
        "id": "UarwOBCdYsNk"
      },
      "execution_count": null,
      "outputs": []
    },
    {
      "cell_type": "code",
      "source": [
        "#5. end=\"\\n\"\n",
        "print(\"ABC\", end=\"\\n\")\n",
        "print(\"DEF\")"
      ],
      "metadata": {
        "id": "V_eaREm7YvSF"
      },
      "execution_count": null,
      "outputs": []
    },
    {
      "cell_type": "code",
      "source": [
        "#6. ใช้กับตัวเลข:\n",
        "print(1, end=\" + \")\n",
        "print(2, end=\" = \")\n",
        "print(3)"
      ],
      "metadata": {
        "id": "6yxXHVQtY4r2"
      },
      "execution_count": null,
      "outputs": []
    },
    {
      "cell_type": "markdown",
      "source": [
        "#6 รวม sep= และ end="
      ],
      "metadata": {
        "id": "77m3ShiBY_9f"
      }
    },
    {
      "cell_type": "code",
      "source": [
        "#รูปแบบพื้นฐาน:\n",
        "print(\"A\", \"B\", \"C\", sep=\"-\", end=\" | \")\n",
        "print(\"D\", \"E\", \"F\")"
      ],
      "metadata": {
        "id": "HTP8HwFIZCuI"
      },
      "execution_count": null,
      "outputs": []
    },
    {
      "cell_type": "code",
      "source": [
        "#1. สร้างเมนู:\n",
        "print(\"File\", \"Edit\", \"View\", sep=\" | \", end=\" |\\n\")\n",
        "print(\"Help\", \"About\", sep=\" | \")"
      ],
      "metadata": {
        "id": "yPDgTzdNZJpy"
      },
      "execution_count": null,
      "outputs": []
    },
    {
      "cell_type": "code",
      "source": [
        "#2. แสดงข้อมูลแบบตาราง:\n",
        "print(\"Name\", \"Age\", \"City\", sep=\" | \", end=\"\\n\")\n",
        "print(\"John\", 25, \"Bangkok\", sep=\" | \", end=\"\\n\")\n",
        "print(\"Mary\", 30, \"Chiang Mai\", sep=\" | \")"
      ],
      "metadata": {
        "id": "6DiwjXKYZL95"
      },
      "execution_count": null,
      "outputs": []
    },
    {
      "cell_type": "code",
      "source": [
        "#3. การนับเลข:\n",
        "print(1, 2, 3, sep=\"-\", end=\" -> \")\n",
        "print(4, 5, 6, sep=\"-\")"
      ],
      "metadata": {
        "id": "ecBNDLdrZSKi"
      },
      "execution_count": null,
      "outputs": []
    },
    {
      "cell_type": "code",
      "source": [
        "4. สร้างรูปแบบพิเศษ:\n",
        "print(\"Start\", \"Middle\", sep=\" >>> \", end=\" >>> \")\n",
        "print(\"End\")"
      ],
      "metadata": {
        "id": "M85RdTvRZVuD"
      },
      "execution_count": null,
      "outputs": []
    },
    {
      "cell_type": "code",
      "source": [
        "print(\"A\", \"B\", sep=\"*\", end=\"*\")\n",
        "print(\"C\", \"D\", sep=\"*\")"
      ],
      "metadata": {
        "id": "tOwtzaeuZYF7"
      },
      "execution_count": null,
      "outputs": []
    },
    {
      "cell_type": "code",
      "source": [
        "5. ตัวอย่างซับซ้อน:\n",
        "print(\"Red\", \"Green\", \"Blue\", sep=\"-\", end=\" and \")\n",
        "print(\"Yellow\", \"Orange\", \"Purple\", sep=\"-\")"
      ],
      "metadata": {
        "id": "lL72ZFZPZclk"
      },
      "execution_count": null,
      "outputs": []
    },
    {
      "cell_type": "markdown",
      "source": [
        "#7 Math Operations พื้นฐาน (+, -, *, /)"
      ],
      "metadata": {
        "id": "Ud-7g8vcabvO"
      }
    },
    {
      "cell_type": "code",
      "source": [
        "#1. การบวก (+):\n",
        "print(5 + 3)\n",
        "print(10 + 25)\n",
        "print(7.5 + 2.3)"
      ],
      "metadata": {
        "id": "NXHJhvCTaeev"
      },
      "execution_count": null,
      "outputs": []
    },
    {
      "cell_type": "code",
      "source": [
        "#2. การลบ (-):\n",
        "print(10 - 4)\n",
        "print(50 - 15)\n",
        "print(8.7 - 3.2)"
      ],
      "metadata": {
        "id": "7wqBwJzdakPn"
      },
      "execution_count": null,
      "outputs": []
    },
    {
      "cell_type": "code",
      "source": [
        "#3. การคูณ (*):\n",
        "print(6 * 7)\n",
        "print(12 * 3)\n",
        "print(4.5 * 2)"
      ],
      "metadata": {
        "id": "hwi0BF4PamPY"
      },
      "execution_count": null,
      "outputs": []
    },
    {
      "cell_type": "code",
      "source": [
        "#4. การหาร (/):\n",
        "print(15 / 3)\n",
        "print(20 / 4)\n",
        "print(7 / 2)"
      ],
      "metadata": {
        "id": "3Y3AtonWaojg"
      },
      "execution_count": null,
      "outputs": []
    },
    {
      "cell_type": "code",
      "source": [
        "#ตัวอย่างผสม:\n",
        "print(\"5 + 3 =\", 5 + 3)\n",
        "print(\"10 - 4 =\", 10 - 4)\n",
        "print(\"6 * 7 =\", 6 * 7)\n",
        "print(\"15 / 3 =\", 15 / 3)"
      ],
      "metadata": {
        "id": "BssB-ORaaq9y"
      },
      "execution_count": null,
      "outputs": []
    },
    {
      "cell_type": "code",
      "source": [
        "#การใช้กับทศนิยม:\n",
        "print(3.14 + 2.86)\n",
        "print(9.8 - 1.3)\n",
        "print(2.5 * 4)\n",
        "print(8.4 / 2.1)"
      ],
      "metadata": {
        "id": "vc1Rr7aUazXT"
      },
      "execution_count": null,
      "outputs": []
    },
    {
      "cell_type": "markdown",
      "source": [
        "#8 Slide 12: Math Operations ขั้นสูง (**, //, %)"
      ],
      "metadata": {
        "id": "G1JEWNI9a4Eq"
      }
    },
    {
      "cell_type": "code",
      "source": [
        "#1. การยกกำลัง ():**\n",
        "print(2 ** 3)\n",
        "print(5 ** 2)\n",
        "print(10 ** 3)\n",
        "print(4 ** 0.5)"
      ],
      "metadata": {
        "id": "zOKROpn2a6yC"
      },
      "execution_count": null,
      "outputs": []
    },
    {
      "cell_type": "code",
      "source": [
        "#2. การหารแบบตัดทศนิยม (//):\n",
        "print(17 // 5)\n",
        "print(20 // 3)\n",
        "print(15 // 4)\n",
        "print(100 // 7)"
      ],
      "metadata": {
        "id": "Nzg8ld41a_tr"
      },
      "execution_count": null,
      "outputs": []
    },
    {
      "cell_type": "code",
      "source": [
        "#3. หาเศษจากการหาร (%):\n",
        "print(17 % 5)\n",
        "print(20 % 3)\n",
        "print(15 % 4)\n",
        "print(100 % 7)"
      ],
      "metadata": {
        "id": "Png0v88zbCw8"
      },
      "execution_count": null,
      "outputs": []
    },
    {
      "cell_type": "code",
      "source": [
        "#ตัวอย่างการใช้งานจริง:\n",
        "#การคำนวณกำลัง:\n",
        "print(\"2 ยกกำลัง 8 =\", 2 ** 8)\n",
        "print(\"3 ยกกำลัง 4 =\", 3 ** 4)"
      ],
      "metadata": {
        "id": "MPAVGCZZbIjl"
      },
      "execution_count": null,
      "outputs": []
    },
    {
      "cell_type": "code",
      "source": [
        "#การแบ่งของ:\n",
        "print(\"แบ่งลูกอม 23 ลูก ให้เด็ก 5 คน\")\n",
        "print(\"เด็กคนละ\", 23 // 5, \"ลูก\")\n",
        "print(\"เหลือ\", 23 % 5, \"ลูก\")"
      ],
      "metadata": {
        "id": "EZl2ACrNbMwd"
      },
      "execution_count": null,
      "outputs": []
    },
    {
      "cell_type": "code",
      "source": [
        "#ตัวอย่างผสม:\n",
        "print(10 ** 2)\n",
        "print(100 // 3)\n",
        "print(100 % 3)"
      ],
      "metadata": {
        "id": "3eZchcuqbTY_"
      },
      "execution_count": null,
      "outputs": []
    },
    {
      "cell_type": "markdown",
      "source": [
        "#9 ลำดับการคำนวณ (Operator Precedence)"
      ],
      "metadata": {
        "id": "RqCWY7xHgZQL"
      }
    },
    {
      "cell_type": "code",
      "source": [
        "#1. ยกกำลังก่อน:\n",
        "print(2 + 3 ** 2)       # = 2 + 9 = 11\n",
        "print(5 * 2 ** 3)       # = 5 * 8 = 40\n",
        "print(10 - 2 ** 2)      # = 10 - 4 = 6"
      ],
      "metadata": {
        "id": "BhtvV8JfgggT"
      },
      "execution_count": null,
      "outputs": []
    },
    {
      "cell_type": "code",
      "source": [
        "#2. คูณหารก่อนบวกลบ:\n",
        "print(2 + 3 * 4)        # = 2 + 12 = 14\n",
        "print(20 - 15 / 3)      # = 20 - 5.0 = 15.0\n",
        "print(5 + 8 // 2)       # = 5 + 4 = 9"
      ],
      "metadata": {
        "id": "WeZu4xyxgk4j"
      },
      "execution_count": null,
      "outputs": []
    },
    {
      "cell_type": "code",
      "source": [
        "#3. ตัวอย่างซับซ้อน:\n",
        "print(2 * 3 + 4 * 5)    # = 6 + 20 = 26\n",
        "print(100 / 4 - 3 * 2)  # = 25.0 - 6 = 19.0\n",
        "print(2 ** 3 + 10 % 3)  # = 8 + 1 = 9"
      ],
      "metadata": {
        "id": "ku-PuB_EgoA8"
      },
      "execution_count": null,
      "outputs": []
    },
    {
      "cell_type": "code",
      "source": [
        "#4. การอ่านจากซ้ายไปขวา (เมื่อความสำคัญเท่ากัน):\n",
        "print(20 / 4 * 2)       # = 5.0 * 2 = 10.0\n",
        "print(100 - 50 + 25)    # = 50 + 25 = 75\n",
        "print(2 ** 3 ** 2)      # = 2 ** 9 = 512"
      ],
      "metadata": {
        "id": "EUwZnFTqgrJu"
      },
      "execution_count": null,
      "outputs": []
    },
    {
      "cell_type": "code",
      "source": [
        "#ตัวอย่างเปรียบเทียบ:\n",
        "print(\"ไม่ใช้วงเล็บ:\", 2 + 3 * 4)\n",
        "print(\"คำนวณตามลำดับ:\", 2 + (3 * 4))"
      ],
      "metadata": {
        "id": "RLVHQjuLgvf9"
      },
      "execution_count": null,
      "outputs": []
    },
    {
      "cell_type": "markdown",
      "source": [
        "#10 การใช้วงเล็บ () ในการคำนวณ"
      ],
      "metadata": {
        "id": "4eUzkSB_hezG"
      }
    },
    {
      "cell_type": "code",
      "source": [
        "#1. เปลี่ยนลำดับการคำนวณ:\n",
        "print(2 + 3 * 4)\n",
        "print((2 + 3) * 4)"
      ],
      "metadata": {
        "id": "DMojv0arg9Bw"
      },
      "execution_count": null,
      "outputs": []
    },
    {
      "cell_type": "code",
      "source": [
        "print(10 - 6 / 2)\n",
        "print((10 - 6) / 2)"
      ],
      "metadata": {
        "id": "JeHajJZUhB2h"
      },
      "execution_count": null,
      "outputs": []
    },
    {
      "cell_type": "code",
      "source": [
        "#2. วงเล็บซ้อนกัน:\n",
        "print(((2 + 3) * 4) - 5)\n",
        "print(2 * (3 + (4 * 5)))\n",
        "print((10 + 5) / (3 * 2))"
      ],
      "metadata": {
        "id": "x0XKcgLdhFPB"
      },
      "execution_count": null,
      "outputs": []
    },
    {
      "cell_type": "code",
      "source": [
        "#3. ตัวอย่างในชีวิตจริง:\n",
        "print(\"คำนวณเฉลี่ย:\")\n",
        "print((85 + 92 + 78) / 3)"
      ],
      "metadata": {
        "id": "2sabpuudhIHS"
      },
      "execution_count": null,
      "outputs": []
    },
    {
      "cell_type": "code",
      "source": [
        "print(\"คำนวณพื้นที่สามเหลี่ยม:\")\n",
        "print((5 * 8) / 2)"
      ],
      "metadata": {
        "id": "osPCLRdThLti"
      },
      "execution_count": null,
      "outputs": []
    },
    {
      "cell_type": "code",
      "source": [
        "#4. เปรียบเทียบผลลัพธ์:\n",
        "print(\"ไม่ใช้วงเล็บ:\", 5 + 3 * 2 ** 2)\n",
        "print(\"ใช้วงเล็บ:\", (5 + 3) * 2 ** 2)\n",
        "print(\"ใช้วงเล็บ:\", 5 + (3 * 2) ** 2)\n",
        "print(\"ใช้วงเล็บ:\", (5 + 3 * 2) ** 2)"
      ],
      "metadata": {
        "id": "jZOfZp0shPhi"
      },
      "execution_count": null,
      "outputs": []
    },
    {
      "cell_type": "code",
      "source": [
        "#5. วงเล็บช่วยให้อ่านง่าย:\n",
        "print(2 * 3 + 4 * 5)\n",
        "print((2 * 3) + (4 * 5))"
      ],
      "metadata": {
        "id": "x8mGHd3FhTgT"
      },
      "execution_count": null,
      "outputs": []
    },
    {
      "cell_type": "markdown",
      "source": [
        "#11 Math Operations กับ print() - ตัวอย่างง่าย"
      ],
      "metadata": {
        "id": "f_LF5BKzhZu9"
      }
    },
    {
      "cell_type": "code",
      "source": [
        "#1. แสดงผลการคำนวณ:\n",
        "print(\"5 + 3 =\", 5 + 3)\n",
        "print(\"10 - 4 =\", 10 - 4)\n",
        "print(\"6 * 7 =\", 6 * 7)\n",
        "print(\"15 / 3 =\", 15 / 3)"
      ],
      "metadata": {
        "id": "YtumwHBthjI2"
      },
      "execution_count": null,
      "outputs": []
    },
    {
      "cell_type": "code",
      "source": [
        "#2. การใช้ sep= กับการคำนวณ:\n",
        "print(\"ผลลัพธ์\", 5 + 3, sep=\" = \")\n",
        "print(\"คำตอบ\", 10 * 2, sep=\": \")\n",
        "print(\"ค่า\", 100 / 4, sep=\" -> \")"
      ],
      "metadata": {
        "id": "FzviFfLlhmV3"
      },
      "execution_count": null,
      "outputs": []
    },
    {
      "cell_type": "code",
      "source": [
        "#3. แสดงขั้นตอนการคำนวณ:\n",
        "print(\"2 + 3 =\", 2 + 3)\n",
        "print(\"ผลลัพธ์ * 4 =\", (2 + 3) * 4)"
      ],
      "metadata": {
        "id": "DextTRYBhpZn"
      },
      "execution_count": null,
      "outputs": []
    },
    {
      "cell_type": "code",
      "source": [
        "print(\"10 / 2 =\", 10 / 2)\n",
        "print(\"ผลลัพธ์ + 5 =\", (10 / 2) + 5)"
      ],
      "metadata": {
        "id": "ITnX2x0nhrw_"
      },
      "execution_count": null,
      "outputs": []
    },
    {
      "cell_type": "code",
      "source": [
        "#4. การคำนวณหลายอย่างในบรรทัดเดียว:\n",
        "print(5 + 3, 10 - 4, 6 * 2, sep=\" | \")"
      ],
      "metadata": {
        "id": "y0Hdk4kghvY4"
      },
      "execution_count": null,
      "outputs": []
    },
    {
      "cell_type": "code",
      "source": [
        "print(\"บวก:\", 5 + 3, \"ลบ:\", 10 - 4, sep=\" \")"
      ],
      "metadata": {
        "id": "e60iFl1-hxao"
      },
      "execution_count": null,
      "outputs": []
    },
    {
      "cell_type": "code",
      "source": [
        "#5. ตัวอย่างการใช้งานจริง:\n",
        "print(\"ราคารวม:\", 150 + 200 + 75, \"บาท\")\n",
        "print(\"ส่วนลด 10%:\", (150 + 200 + 75) * 0.1, \"บาท\")\n",
        "print(\"ยอดชำระ:\", (150 + 200 + 75) * 0.9, \"บาท\")"
      ],
      "metadata": {
        "id": "odm72-3wh3TR"
      },
      "execution_count": null,
      "outputs": []
    },
    {
      "cell_type": "code",
      "source": [
        "#6. การแสดงผลแบบตาราง:\n",
        "print(\"สินค้า A:\", 50 * 3, \"บาท\")\n",
        "print(\"สินค้า B:\", 75 * 2, \"บาท\")\n",
        "print(\"รวม:\", (50 * 3) + (75 * 2), \"บาท\")"
      ],
      "metadata": {
        "id": "bF2DAgcMh7ci"
      },
      "execution_count": null,
      "outputs": []
    },
    {
      "cell_type": "code",
      "source": [
        "#7. ใช้ end= เพื่อแสดงผลต่อเนื่อง:\n",
        "print(\"5 + 3 = \", end=\"\")\n",
        "print(5 + 3)"
      ],
      "metadata": {
        "id": "nCEMn5y6h-qT"
      },
      "execution_count": null,
      "outputs": []
    },
    {
      "cell_type": "code",
      "source": [
        "print(\"ผลคูณ = \", end=\"\")\n",
        "print(4 * 5)"
      ],
      "metadata": {
        "id": "h9QgH1vBiEHj"
      },
      "execution_count": null,
      "outputs": []
    },
    {
      "cell_type": "markdown",
      "source": [
        "#12 Math Operations กับ print() - ตัวอย่างซับซ้อน"
      ],
      "metadata": {
        "id": "8E_TZRUZiM6d"
      }
    },
    {
      "cell_type": "code",
      "source": [
        "#1. การคำนวณราคาสินค้า:\n",
        "print(\"=== ใบเสร็จร้านค้า ===\")\n",
        "print(\"กาแฟ 3 แก้ว:\", 3 * 45, \"บาท\")\n",
        "print(\"ขนมปัง 2 ชิ้น:\", 2 * 25, \"บาท\")\n",
        "print(\"น้ำ 1 ขวด:\", 1 * 15, \"บาท\")\n",
        "print(\"รวมทั้งหมด:\", (3 * 45) + (2 * 25) + (1 * 15), \"บาท\")\n",
        "print(\"ภาษี 7%:\", ((3 * 45) + (2 * 25) + (1 * 15)) * 0.07, \"บาท\")\n",
        "print(\"ยอดชำระ:\", ((3 * 45) + (2 * 25) + (1 * 15)) * 1.07, \"บาท\")"
      ],
      "metadata": {
        "id": "RMfpZMwYiTXV"
      },
      "execution_count": null,
      "outputs": []
    },
    {
      "cell_type": "code",
      "source": [
        "#2. การคำนวณเกรดเฉลี่ย:\n",
        "print(\"=== การคำนวณเกรด ===\")\n",
        "print(\"คะแนนสอบ 1:\", 85, \"คะแนน\")\n",
        "print(\"คะแนนสอบ 2:\", 92, \"คะแนน\")\n",
        "print(\"คะแนนสอบ 3:\", 78, \"คะแนน\")\n",
        "print(\"คะแนนเฉลี่ย:\", (85 + 92 + 78) / 3, \"คะแนน\")\n",
        "print(\"คะแนนรวม:\", 85 + 92 + 78, \"คะแนน\")"
      ],
      "metadata": {
        "id": "S-UemSzriWVe"
      },
      "execution_count": null,
      "outputs": []
    },
    {
      "cell_type": "code",
      "source": [
        "#3. การคำนวณพื้นที่และปริมาตร:\n",
        "print(\"=== การคำนวณพื้นที่ ===\")\n",
        "print(\"สี่เหลี่ยมผืนผ้า 5x8:\", 5 * 8, \"ตร.ม.\")\n",
        "print(\"สามเหลี่ยม ฐาน 6 สูง 4:\", (6 * 4) / 2, \"ตร.ม.\")\n",
        "print(\"วงกลม รัศมี 3:\", 3.14 * (3 ** 2), \"ตร.ม.\")\n",
        "print(\"กล่องลูกบาศก์ ด้าน 4:\", 4 ** 3, \"ลบ.ม.\")"
      ],
      "metadata": {
        "id": "FQulGfT0iZv-"
      },
      "execution_count": null,
      "outputs": []
    },
    {
      "cell_type": "code",
      "source": [
        "#4. การคำนวณเวลาและระยะทาง:\n",
        "print(\"=== การเดินทาง ===\")\n",
        "print(\"ระยะทาง:\", 120, \"กิโลเมตร\")\n",
        "print(\"ความเร็ว:\", 60, \"กม./ชม.\")\n",
        "print(\"เวลาที่ใช้:\", 120 / 60, \"ชั่วโมง\")\n",
        "print(\"เวลาเป็นนาที:\", (120 / 60) * 60, \"นาที\")"
      ],
      "metadata": {
        "id": "qBvZs52zidCo"
      },
      "execution_count": null,
      "outputs": []
    },
    {
      "cell_type": "code",
      "source": [
        "#5. การคำนวณเงินทอน:\n",
        "print(\"=== การคิดเงินทอน ===\")\n",
        "print(\"ราคาสินค้า:\", 347, \"บาท\")\n",
        "print(\"เงินที่จ่าย:\", 500, \"บาท\")\n",
        "print(\"เงินทอน:\", 500 - 347, \"บาท\")\n",
        "print(\"ธนบัตร 100:\", (500 - 347) // 100, \"ใบ\")\n",
        "print(\"เหรียญ 50:\", ((500 - 347) % 100) // 50, \"เหรียญ\")\n",
        "print(\"เหรียญ 1:\", ((500 - 347) % 100) % 50, \"เหรียญ\")"
      ],
      "metadata": {
        "id": "0kDgztIuihRQ"
      },
      "execution_count": null,
      "outputs": []
    },
    {
      "cell_type": "markdown",
      "source": [
        "#13 Comparison Operators (==, !=, >, <, >=, <=)"
      ],
      "metadata": {
        "id": "l0MwYzjGjGNl"
      }
    },
    {
      "cell_type": "code",
      "source": [
        "#1. ==, !=\n",
        "print(5 == 5)\n",
        "print(5 == 3)\n",
        "print(10 != 5)\n",
        "print(10 != 10)"
      ],
      "metadata": {
        "id": "LE7NHM2gjIJ9"
      },
      "execution_count": null,
      "outputs": []
    },
    {
      "cell_type": "code",
      "source": [
        "#2. >, <\n",
        "print(8 > 3)\n",
        "print(5 > 10)\n",
        "print(7 < 12)\n",
        "print(15 < 8)"
      ],
      "metadata": {
        "id": "TgIVdzoNmBHr"
      },
      "execution_count": null,
      "outputs": []
    },
    {
      "cell_type": "code",
      "source": [
        "#3.  >=, <=\n",
        "print(5 >= 5)\n",
        "print(5 >= 3)\n",
        "print(5 >= 8)\n",
        "print(10 <= 10)\n",
        "print(7 <= 12)\n",
        "print(15 <= 8)"
      ],
      "metadata": {
        "id": "5WIpw5CWmJWd"
      },
      "execution_count": null,
      "outputs": []
    },
    {
      "cell_type": "code",
      "source": [
        "#4. การเปรียบเทียบทศนิยม:\n",
        "print(3.14 > 3)\n",
        "print(2.5 == 2.5)\n",
        "print(7.8 < 7.9)\n",
        "print(5.0 >= 5)"
      ],
      "metadata": {
        "id": "bTRFW_cOmOX1"
      },
      "execution_count": null,
      "outputs": []
    },
    {
      "cell_type": "code",
      "source": [
        "#5. การเปรียบเทียบข้อความ:\n",
        "print(\"A\" == \"A\")\n",
        "print(\"A\" == \"B\")\n",
        "print(\"Hello\" != \"Hi\")"
      ],
      "metadata": {
        "id": "b7-EuEI7mRP_"
      },
      "execution_count": null,
      "outputs": []
    },
    {
      "cell_type": "code",
      "source": [
        "#6. แสดงผลพร้อมข้อความ:\n",
        "print(\"5 เท่ากับ 5 หรือไม่?\", 5 == 5)\n",
        "print(\"10 มากกว่า 7 หรือไม่?\", 10 > 7)\n",
        "print(\"3 น้อยกว่า 1 หรือไม่?\", 3 < 1)"
      ],
      "metadata": {
        "id": "4_d8CTRymUPe"
      },
      "execution_count": null,
      "outputs": []
    },
    {
      "cell_type": "markdown",
      "source": [
        "#14 Logical Operators (and, or, not)"
      ],
      "metadata": {
        "id": "kiq4GxxanupM"
      }
    },
    {
      "cell_type": "markdown",
      "source": [
        "###ตัวอย่างการใช้ and:"
      ],
      "metadata": {
        "id": "t1yV3Xhcpqn3"
      }
    },
    {
      "cell_type": "code",
      "source": [
        "#1. ทั้งสองเงื่อนไขต้องเป็นจริง:\n",
        "print(True and True)\n",
        "print(True and False)\n",
        "print(False and True)\n",
        "print(False and False)"
      ],
      "metadata": {
        "id": "ToOOvGpHnw-M"
      },
      "execution_count": null,
      "outputs": []
    },
    {
      "cell_type": "code",
      "source": [
        "#2. ใช้กับการเปรียบเทียบ:\n",
        "print(5 > 3 and 10 < 15)\n",
        "print(5 > 8 and 10 < 15)\n",
        "print(2 == 2 and 6 >= 6)"
      ],
      "metadata": {
        "id": "Rmo2yYRwpgam"
      },
      "execution_count": null,
      "outputs": []
    },
    {
      "cell_type": "markdown",
      "source": [
        "##ตัวอย่างการใช้ or:"
      ],
      "metadata": {
        "id": "ZT0CNWetps-I"
      }
    },
    {
      "cell_type": "code",
      "source": [
        "#3. อย่างน้อยหนึ่งเงื่อนไขต้องเป็นจริง:\n",
        "print(True or True)\n",
        "print(True or False)\n",
        "print(False or True)\n",
        "print(False or False)"
      ],
      "metadata": {
        "id": "sGfd31Ubpvr5"
      },
      "execution_count": null,
      "outputs": []
    },
    {
      "cell_type": "code",
      "source": [
        "#4. ใช้กับการเปรียบเทียบ:\n",
        "print(5 > 8 or 10 < 15)\n",
        "print(3 < 1 or 7 > 10)\n",
        "print(5 == 5 or 2 > 5)"
      ],
      "metadata": {
        "id": "0jzaMbmEp0ii"
      },
      "execution_count": null,
      "outputs": []
    },
    {
      "cell_type": "markdown",
      "source": [
        "##ตัวอย่างการใช้ not:"
      ],
      "metadata": {
        "id": "T0ZFe67Qp4H5"
      }
    },
    {
      "cell_type": "code",
      "source": [
        "#5. กลับค่าความจริง:\n",
        "print(not True)\n",
        "print(not False)\n",
        "print(not 5 > 3)\n",
        "print(not 2 > 10)"
      ],
      "metadata": {
        "id": "SpM1Iy6wp61C"
      },
      "execution_count": null,
      "outputs": []
    },
    {
      "cell_type": "code",
      "source": [
        "#15 Logical Operators - ตัวอย่างซับซ้อน"
      ],
      "metadata": {
        "id": "OGaSOoj2rJWo"
      },
      "execution_count": null,
      "outputs": []
    },
    {
      "cell_type": "code",
      "source": [
        "#1. การตรวจสอบช่วงตัวเลข:\n",
        "print(\"อายุ 25 อยู่ในช่วง 18-60 หรือไม่?\")\n",
        "print(25 >= 18 and 25 <= 60)"
      ],
      "metadata": {
        "id": "17oWFbmsrNAo"
      },
      "execution_count": null,
      "outputs": []
    },
    {
      "cell_type": "code",
      "source": [
        "print(\"คะแนน 45 ผ่านเกณฑ์ 50 หรือไม่?\")\n",
        "print(45 >= 50 or 45 >= 40)"
      ],
      "metadata": {
        "id": "1BNfriM7rRDg"
      },
      "execution_count": null,
      "outputs": []
    },
    {
      "cell_type": "code",
      "source": [
        "#2. การตรวจสอบหลายเงื่อนไข:\n",
        "print(\"=== ตรวจสอบเกรด ===\")\n",
        "print(\"คะแนน 85 เกรด A หรือไม่? (>=80)\")\n",
        "print(85 >= 80)                # ผลลัพธ์: True"
      ],
      "metadata": {
        "id": "DoGMiyglrU5A"
      },
      "execution_count": null,
      "outputs": []
    },
    {
      "cell_type": "code",
      "source": [
        "print(\"คะแนน 75 เกรด B หรือไม่? (70-79)\")\n",
        "print(75 >= 70 and 75 <= 79)   # ผลลัพธ์: True"
      ],
      "metadata": {
        "id": "ld0Vo5T1rZCC"
      },
      "execution_count": null,
      "outputs": []
    },
    {
      "cell_type": "code",
      "source": [
        "print(\"คะแนน 55 ไม่ผ่าน หรือไม่? (<60)\")\n",
        "print(not 55 >= 60)            # ผลลัพธ์: True"
      ],
      "metadata": {
        "id": "jep7up4oraja"
      },
      "execution_count": null,
      "outputs": []
    },
    {
      "cell_type": "code",
      "source": [
        "#3. การตรวจสอบวันทำงาน:\n",
        "print(\"=== ตรวจสอบวัน ===\")\n",
        "print(\"วันจันทร์ หรือ วันศุกร์ เป็นวันทำงานหรือไม่?\")\n",
        "print(\"จันทร์\" == \"จันทร์\" or \"จันทร์\" == \"ศุกร์\")"
      ],
      "metadata": {
        "id": "tZCQ9jLbrdXS"
      },
      "execution_count": null,
      "outputs": []
    },
    {
      "cell_type": "code",
      "source": [
        "print(\"วันเสาร์ และ วันอาทิตย์ เป็นวันหยุดหรือไม่?\")\n",
        "print(\"เสาร์\" == \"เสาร์\" and \"อาทิตย์\" == \"อาทิตย์\")"
      ],
      "metadata": {
        "id": "Rz43wQudrgTs"
      },
      "execution_count": null,
      "outputs": []
    },
    {
      "cell_type": "code",
      "source": [
        "#4. การผสมการดำเนินการ:\n",
        "print(\"=== การตรวจสอบซับซ้อน ===\")\n",
        "print((10 > 5) and (20 < 30) and (15 == 15))    # True\n",
        "print((5 > 10) or (3 < 8) or (7 == 7))          # True\n",
        "print(not ((2 > 5) and (10 < 8)))               # True"
      ],
      "metadata": {
        "id": "GwQiQLsWrm-T"
      },
      "execution_count": null,
      "outputs": []
    },
    {
      "cell_type": "code",
      "source": [
        "#5. การใช้วงเล็บควบคุมลำดับ:\n",
        "print(\"ไม่ใช้วงเล็บ:\")\n",
        "print(True or False and False)      # ผลลัพธ์: True"
      ],
      "metadata": {
        "id": "0fLQGp7Lrrvd"
      },
      "execution_count": null,
      "outputs": []
    },
    {
      "cell_type": "code",
      "source": [
        "print(\"ใช้วงเล็บ:\")\n",
        "print((True or False) and False)    # ผลลัพธ์: False"
      ],
      "metadata": {
        "id": "Pzlwi9i9rvDt"
      },
      "execution_count": null,
      "outputs": []
    },
    {
      "cell_type": "code",
      "source": [
        "#6. ตัวอย่างการคิดเงินเดือน:\n",
        "print(\"=== การคำนวณโบนัส ===\")\n",
        "print(\"พนักงานอายุ 30 ทำงาน 5 ปี\")\n",
        "print(\"อายุ >= 25 และ ประสบการณ์ >= 3 ปี ได้โบนัสหรือไม่?\")\n",
        "print(30 >= 25 and 5 >= 3)          # ผลลัพธ์: True"
      ],
      "metadata": {
        "id": "3_cA95icrxp3"
      },
      "execution_count": null,
      "outputs": []
    },
    {
      "cell_type": "code",
      "source": [
        "print(\"อายุ < 25 หรือ ประสบการณ์ >= 5 ปี ได้โบนัสพิเศษหรือไม่?\")\n",
        "print(30 < 25 or 5 >= 5)            # ผลลัพธ์: True"
      ],
      "metadata": {
        "id": "diq2_kVlr0Hm"
      },
      "execution_count": null,
      "outputs": []
    },
    {
      "cell_type": "markdown",
      "source": [
        "#15 Data Types พื้นฐาน (int, float, bool, string)"
      ],
      "metadata": {
        "id": "jwl9fCjRuKTv"
      }
    },
    {
      "cell_type": "code",
      "source": [
        "#1. Integer (int) - จำนวนเต็ม:\n",
        "print(10)           # จำนวนเต็มบวก\n",
        "print(-5)           # จำนวนเต็มลบ\n",
        "print(0)            # ศูนย์\n",
        "print(999999)       # จำนวนเต็มใหญ่"
      ],
      "metadata": {
        "id": "w2nVUERYuOT-"
      },
      "execution_count": null,
      "outputs": []
    },
    {
      "cell_type": "code",
      "source": [
        "#2. Float - จำนวนทศนิยม:\n",
        "print(3.14)         # ทศนิยม\n",
        "print(-2.5)         # ทศนิยมลบ\n",
        "print(0.0)          # ศูนย์ทศนิยม\n",
        "print(1.23e4)       # ตัวเลขในรูป scientific notation (12300)"
      ],
      "metadata": {
        "id": "dw9F78n_uUWn"
      },
      "execution_count": null,
      "outputs": []
    },
    {
      "cell_type": "code",
      "source": [
        "#3. Boolean (bool) - ค่าความจริง:\n",
        "print(True)         # ค่าจริง\n",
        "print(False)        # ค่าเท็จ\n",
        "print(5 > 3)        # ผลลัพธ์เป็น True\n",
        "print(2 > 10)       # ผลลัพธ์เป็น False"
      ],
      "metadata": {
        "id": "_e6kBkD6uYYI"
      },
      "execution_count": null,
      "outputs": []
    },
    {
      "cell_type": "code",
      "source": [
        "#4. String (str) - ข้อความ:\n",
        "print(\"Hello\")      # ข้อความใน double quotes\n",
        "print('World')      # ข้อความใน single quotes\n",
        "print(\"123\")        # ตัวเลขในรูปข้อความ\n",
        "print(\"\")           # ข้อความเปล่า (empty string)"
      ],
      "metadata": {
        "id": "Qe2GVaueubbJ"
      },
      "execution_count": null,
      "outputs": []
    },
    {
      "cell_type": "code",
      "source": [
        "#ตัวอย่างการใช้งานผสม:\n",
        "print(\"อายุ:\", 25)                    # string และ int\n",
        "print(\"คะแนน:\", 85.5)                 # string และ float\n",
        "print(\"ผ่านหรือไม่:\", True)           # string และ bool\n",
        "print(\"ชื่อ:\", \"สมชาย\", \"อายุ:\", 30)  # หลายชนิดข้อมูล"
      ],
      "metadata": {
        "id": "lfIubvHAuewp"
      },
      "execution_count": null,
      "outputs": []
    },
    {
      "cell_type": "code",
      "source": [
        "#การแยกแยะชนิดข้อมูล:\n",
        "print(100)          # ตัวเลข (int)\n",
        "print(\"100\")        # ข้อความ (string)\n",
        "print(100.0)        # ทศนิยม (float)\n",
        "print(100 > 50)     # ความจริง (bool)"
      ],
      "metadata": {
        "id": "i9cYOYlSuigB"
      },
      "execution_count": null,
      "outputs": []
    },
    {
      "cell_type": "markdown",
      "source": [
        "#16 การใช้ type() ตรวจสอบชนิดข้อมูล"
      ],
      "metadata": {
        "id": "lWpAldv2wfM1"
      }
    },
    {
      "cell_type": "code",
      "source": [
        "#1. ตรวจสอบ Integer:\n",
        "print(type(42))\n",
        "print(type(-17))\n",
        "print(type(0))"
      ],
      "metadata": {
        "id": "nPDjhSPSwliX"
      },
      "execution_count": null,
      "outputs": []
    },
    {
      "cell_type": "code",
      "source": [
        "#2. ตรวจสอบ Float:\n",
        "print(type(3.14))\n",
        "print(type(-2.5))\n",
        "print(type(1.0))"
      ],
      "metadata": {
        "id": "Fph-vcgVwr-_"
      },
      "execution_count": null,
      "outputs": []
    },
    {
      "cell_type": "code",
      "source": [
        "#3. ตรวจสอบ Boolean:\n",
        "print(type(True))\n",
        "print(type(False))\n",
        "print(type(5 > 3))"
      ],
      "metadata": {
        "id": "Ap3cTyt2wvqf"
      },
      "execution_count": null,
      "outputs": []
    },
    {
      "cell_type": "code",
      "source": [
        "#4. ตรวจสอบ String:\n",
        "print(type(\"Hello\"))\n",
        "print(type('World'))\n",
        "print(type(\"123\"))"
      ],
      "metadata": {
        "id": "b3OA8iDMw16w"
      },
      "execution_count": null,
      "outputs": []
    },
    {
      "cell_type": "code",
      "source": [
        "#ตัวอย่างการแสดงผลพร้อมข้อความ:\n",
        "print(\"ชนิดของ 100:\", type(100))\n",
        "print(\"ชนิดของ 100.5:\", type(100.5))\n",
        "print(\"ชนิดของ True:\", type(True))\n",
        "print(\"ชนิดของ 'Hello':\", type(\"Hello\"))"
      ],
      "metadata": {
        "id": "08E-krEyw6-Z"
      },
      "execution_count": null,
      "outputs": []
    },
    {
      "cell_type": "markdown",
      "source": [
        "#17 Boolean Logic !!!!!!!!!!!!!!!!!!!!!!!ข้อควรระวัง!!!!!!!!!!!!!!!!!!!!!!!!!!!!!!!!!"
      ],
      "metadata": {
        "id": "2ICZ9VpuxZBn"
      }
    },
    {
      "cell_type": "code",
      "source": [
        "#ค่าพื้นฐานของ Boolean:\n",
        "print(True)         # ค่าจริง\n",
        "print(False)        # ค่าเท็จ\n",
        "print(type(True))   # <class 'bool'>\n",
        "print(type(False))  # <class 'bool'>"
      ],
      "metadata": {
        "id": "sSRLViDyxWx1"
      },
      "execution_count": null,
      "outputs": []
    },
    {
      "cell_type": "code",
      "source": [
        "#Boolean จากการเปรียบเทียบ:\n",
        "print(\"=== การเปรียบเทียบ ===\")\n",
        "print(\"5 == 5:\", 5 == 5)\n",
        "print(\"3 > 8:\", 3 > 8)\n",
        "print(\"10 >= 10:\", 10 >= 10)\n",
        "print(\"'A' == 'A':\", \"A\" == \"A\")"
      ],
      "metadata": {
        "id": "-opBhJj4xcSe"
      },
      "execution_count": null,
      "outputs": []
    },
    {
      "cell_type": "code",
      "source": [
        "#Boolean ในการคำนวณ:\n",
        "print(\"=== Boolean ในคณิตศาสตร์ ===\")\n",
        "print(\"True + True:\", True + True)         # 2\n",
        "print(\"True + False:\", True + False)       # 1\n",
        "print(\"False + False:\", False + False)     # 0\n",
        "print(\"True * 5:\", True * 5)               # 5\n",
        "print(\"False * 10:\", False * 10)           # 0"
      ],
      "metadata": {
        "id": "4JFgqBNIxizP"
      },
      "execution_count": null,
      "outputs": []
    },
    {
      "cell_type": "code",
      "source": [
        "#ค่าที่ถือเป็น False\n",
        "print(bool(False))      # False\n",
        "print(bool(0))          # False - เลข 0\n",
        "print(bool(0.0))        # False - ทศนิยม 0.0\n",
        "print(bool(\"\"))         # False - string เปล่า\n",
        "print(bool(''))         # False - string เปล่า"
      ],
      "metadata": {
        "id": "oA9loUwmyEnE"
      },
      "execution_count": null,
      "outputs": []
    },
    {
      "cell_type": "code",
      "source": [
        "#ค่าที่ถือเป็น True\n",
        "print(bool(True))       # True\n",
        "print(bool(1))          # True - เลขที่ไม่ใช่ 0\n",
        "print(bool(-1))         # True - เลขลบ\n",
        "print(bool(3.14))       # True - ทศนิยมที่ไม่ใช่ 0.0\n",
        "print(bool(\"Hello\"))    # True - string ที่มีเนื้อหา\n",
        "print(bool(\" \"))        # True - string ที่มีช่องว่าง\n",
        "\n",
        "print(bool(\"0\"))        # True (string 0)\n",
        "print(bool(\"False\"))    # True (string \"False\")"
      ],
      "metadata": {
        "id": "xul96TO-yIsl"
      },
      "execution_count": null,
      "outputs": []
    },
    {
      "cell_type": "markdown",
      "source": [
        "#18 การแปลงชนิดข้อมูล - พื้นฐาน"
      ],
      "metadata": {
        "id": "UJS2EZ630ty4"
      }
    },
    {
      "cell_type": "code",
      "source": [
        "#การแปลงเป็น Integer:\n",
        "print(int(3.14))        # 3 (ตัดทศนิยม)\n",
        "print(int(3.99))        # 3 (ตัดทศนิยม)\n",
        "print(int(-2.8))        # -2 (ตัดทศนิยม)\n",
        "print(int(\"123\"))       # 123 (string เป็น int)\n",
        "print(int(True))        # 1 (True เป็น 1)\n",
        "print(int(False))       # 0 (False เป็น 0)"
      ],
      "metadata": {
        "id": "mPjx-VrA0w4g"
      },
      "execution_count": null,
      "outputs": []
    },
    {
      "cell_type": "code",
      "source": [
        "#การแปลงเป็น Float:\n",
        "print(float(10))        # 10.0\n",
        "print(float(\"3.14\"))    # 3.14\n",
        "print(float(\"25\"))      # 25.0\n",
        "print(float(True))      # 1.0\n",
        "print(float(False))     # 0.0"
      ],
      "metadata": {
        "id": "39rfGOfH02vI"
      },
      "execution_count": null,
      "outputs": []
    },
    {
      "cell_type": "code",
      "source": [
        "#การแปลงเป็น String:\n",
        "print(str(123))         # \"123\"\n",
        "print(str(3.14))        # \"3.14\"\n",
        "print(str(True))        # \"True\"\n",
        "print(str(False))       # \"False\""
      ],
      "metadata": {
        "id": "7Q_5NGUo06Tj"
      },
      "execution_count": null,
      "outputs": []
    },
    {
      "cell_type": "code",
      "source": [
        "#การแปลงเป็น Boolean:\n",
        "print(bool(1))          # True\n",
        "print(bool(0))          # False\n",
        "print(bool(\"Hello\"))    # True\n",
        "print(bool(\"\"))         # False\n",
        "print(bool(3.14))       # True"
      ],
      "metadata": {
        "id": "zUEwxsDk0-j6"
      },
      "execution_count": null,
      "outputs": []
    },
    {
      "cell_type": "markdown",
      "source": [
        "#20 String Methods (upper(), lower())"
      ],
      "metadata": {
        "id": "z5emqP9v3AK-"
      }
    },
    {
      "cell_type": "code",
      "source": [
        "#คำสั่ง upper() - แปลงเป็นตัวพิมพ์ใหญ่:\n",
        "print(\"hello\".upper())              # HELLO\n",
        "print(\"Python\".upper())             # PYTHON\n",
        "print(\"good morning\".upper())       # GOOD MORNING\n",
        "print(\"123abc\".upper())             # 123ABC"
      ],
      "metadata": {
        "id": "FUGcpo-72_pW"
      },
      "execution_count": null,
      "outputs": []
    },
    {
      "cell_type": "code",
      "source": [
        "#คำสั่ง lower() - แปลงเป็นตัวพิมพ์เล็ก:\n",
        "print(\"HELLO\".lower())              # hello\n",
        "print(\"Python\".lower())             # python\n",
        "print(\"GOOD MORNING\".lower())       # good morning\n",
        "print(\"ABC123\".lower())             # abc123"
      ],
      "metadata": {
        "id": "J3gjxdWp3GD3"
      },
      "execution_count": null,
      "outputs": []
    },
    {
      "cell_type": "code",
      "source": [
        "#ตัวอย่างการใช้งาน:\n",
        "print(\"ชื่อ:\", \"john\".upper())                    # JOHN\n",
        "print(\"นามสกุล:\", \"SMITH\".lower())                # smith\n",
        "print(\"อีเมล:\", \"User@Email.COM\".lower())         # user@email.com\n",
        "print(\"รหัสผ่าน:\", \"secret123\".upper())           # SECRET123"
      ],
      "metadata": {
        "id": "OS5X4Mk33Kj4"
      },
      "execution_count": null,
      "outputs": []
    },
    {
      "cell_type": "code",
      "source": [
        "#การเปรียบเทียบ:\n",
        "print(\"'Hello' == 'hello':\", \"Hello\" == \"hello\")           # False\n",
        "print(\"'Hello'.lower() == 'hello':\", \"Hello\".lower() == \"hello\")   # True\n",
        "print(\"'HELLO'.upper() == 'hello'.upper():\", \"HELLO\".upper() == \"hello\".upper())   # True"
      ],
      "metadata": {
        "id": "ccQVBYvA3Ug5"
      },
      "execution_count": null,
      "outputs": []
    },
    {
      "cell_type": "markdown",
      "source": [
        "#21 ข้อผิดพลาดที่พบบ่อย + ตัวอย่างการแก้ไข"
      ],
      "metadata": {
        "id": "1oWN7FwT3n8V"
      }
    },
    {
      "cell_type": "markdown",
      "source": [
        "##1. SyntaxError"
      ],
      "metadata": {
        "id": "5Myk5OJ25qsj"
      }
    },
    {
      "cell_type": "code",
      "source": [
        "#NameError: name 'Hello' is not defined\n",
        "# ผิด:\n",
        "print(Hello)"
      ],
      "metadata": {
        "id": "od9BJzdu3sGd"
      },
      "execution_count": null,
      "outputs": []
    },
    {
      "cell_type": "code",
      "source": [
        "# ถูก:\n",
        "print(\"Hello\")\n",
        "print('Hello')"
      ],
      "metadata": {
        "id": "rcr2gp9j32Vn"
      },
      "execution_count": null,
      "outputs": []
    },
    {
      "cell_type": "markdown",
      "source": [
        "##2. การต่อ String กับ Number"
      ],
      "metadata": {
        "id": "hC3dgL-95x_b"
      }
    },
    {
      "cell_type": "code",
      "source": [
        "#TypeError\n",
        "# ผิด:\n",
        "print(\"อายุ: \" + 25)"
      ],
      "metadata": {
        "id": "RMjFEeFH36VI"
      },
      "execution_count": null,
      "outputs": []
    },
    {
      "cell_type": "code",
      "source": [
        "# ถูก:\n",
        "print(\"อายุ: \" + str(25))\n",
        "print(\"อายุ:\", 25)"
      ],
      "metadata": {
        "id": "LBr7pOCg39No"
      },
      "execution_count": null,
      "outputs": []
    },
    {
      "cell_type": "markdown",
      "source": [
        "##3. การหารด้วยศูนย์"
      ],
      "metadata": {
        "id": "buc9ugNF576s"
      }
    },
    {
      "cell_type": "code",
      "source": [
        "#ZeroDivisionError\n",
        "# ผิด:\n",
        "print(10 / 0)"
      ],
      "metadata": {
        "id": "9Bj_JE6F4BH4"
      },
      "execution_count": null,
      "outputs": []
    },
    {
      "cell_type": "code",
      "source": [
        "# ถูก:\n",
        "print(\"ตรวจสอบก่อนหาร:\")\n",
        "print(\"10 / 2 =\", 10 / 2)\n",
        "print(\"ไม่สามารถหารด้วย 0 ได้\")"
      ],
      "metadata": {
        "id": "BYH9lzOS4FWJ"
      },
      "execution_count": null,
      "outputs": []
    },
    {
      "cell_type": "markdown",
      "source": [
        "##4. การใช้วงเล็บไม่ครบ"
      ],
      "metadata": {
        "id": "jilTCleK6A2N"
      }
    },
    {
      "cell_type": "code",
      "source": [
        "#SyntaxError: unexpected EOF\n",
        "# ผิด:\n",
        "print(\"Hello\""
      ],
      "metadata": {
        "id": "Mfye4Om24TAM"
      },
      "execution_count": null,
      "outputs": []
    },
    {
      "cell_type": "code",
      "source": [
        "# ถูก:\n",
        "print(\"Hello\")\n",
        "print(5 + 3)\n",
        "print((10 + 5) * 2)"
      ],
      "metadata": {
        "id": "u80yt43R4agN"
      },
      "execution_count": null,
      "outputs": []
    },
    {
      "cell_type": "code",
      "source": [
        "5. การแปลงชนิดข้อมูลผิด:# ValueError\n",
        "# ผิด:\n",
        "print(int(\"Hello\"))"
      ],
      "metadata": {
        "id": "SihC9_ly4eON"
      },
      "execution_count": null,
      "outputs": []
    },
    {
      "cell_type": "code",
      "source": [
        "# ถูก:\n",
        "print(int(\"123\"))       # 123\n",
        "print(float(\"3.14\"))    # 3.14\n",
        "print(str(456))         # \"456\""
      ],
      "metadata": {
        "id": "5NHw3_Gy4gH2"
      },
      "execution_count": null,
      "outputs": []
    },
    {
      "cell_type": "markdown",
      "source": [
        "##6. การใช้ตัวพิมพ์ใหญ่-เล็กผิด"
      ],
      "metadata": {
        "id": "rAUA0F0B6Ge3"
      }
    },
    {
      "cell_type": "code",
      "source": [
        "# NameError: name 'true' is not defined\n",
        "# ผิด:\n",
        "print(true)"
      ],
      "metadata": {
        "id": "KiPi5e_o4oH4"
      },
      "execution_count": null,
      "outputs": []
    },
    {
      "cell_type": "code",
      "source": [
        "print(TRUE)"
      ],
      "metadata": {
        "id": "8yOc_i-q4yK5"
      },
      "execution_count": null,
      "outputs": []
    },
    {
      "cell_type": "code",
      "source": [
        "# ถูก:\n",
        "print(True)     # boolean ต้องขึ้นต้นด้วยตัวใหญ่\n",
        "print(False)    # boolean ต้องขึ้นต้นด้วยตัวใหญ่"
      ],
      "metadata": {
        "id": "8mVFP4Fc4skQ"
      },
      "execution_count": null,
      "outputs": []
    },
    {
      "cell_type": "markdown",
      "source": [
        "##7. การใช้เครื่องหมายคำพูดผิด"
      ],
      "metadata": {
        "id": "4CRmyc9R6MbP"
      }
    },
    {
      "cell_type": "code",
      "source": [
        "#7. การใช้เครื่องหมายคำพูดผิด: # อาจเกิดปัญหา\n",
        "# ผิด:\n",
        "print('Hello \"World\"')"
      ],
      "metadata": {
        "id": "0oxQxEzZ42Ty"
      },
      "execution_count": null,
      "outputs": []
    },
    {
      "cell_type": "code",
      "source": [
        "# ถูก:\n",
        "print(\"Hello 'World'\")      # ใช้ double quote ข้างนอก\n",
        "print('Hello \"World\"')      # ใช้ single quote ข้างนอก\n",
        "print(\"Hello \\\"World\\\"\")    # ใช้ escape character"
      ],
      "metadata": {
        "id": "7TadXt8n43zJ"
      },
      "execution_count": null,
      "outputs": []
    },
    {
      "cell_type": "markdown",
      "source": [
        "##8. การใช้ Logical Operators ผิด"
      ],
      "metadata": {
        "id": "wlAhXpDv6RPI"
      }
    },
    {
      "cell_type": "code",
      "source": [
        "# NameError: name 'AND' is not defined\n",
        "# ผิด:\n",
        "print(5 > 3 AND 10 < 15)"
      ],
      "metadata": {
        "id": "415TrsBQ5Btz"
      },
      "execution_count": null,
      "outputs": []
    },
    {
      "cell_type": "code",
      "source": [
        "# ถูก:\n",
        "print(5 > 3 and 10 < 15)    # ใช้ตัวเล็ก\n",
        "print(True or False)        # ใช้ตัวเล็ก\n",
        "print(not True)             # ใช้ตัวเล็ก"
      ],
      "metadata": {
        "id": "yXBVSJ-15D6c"
      },
      "execution_count": null,
      "outputs": []
    }
  ]
}